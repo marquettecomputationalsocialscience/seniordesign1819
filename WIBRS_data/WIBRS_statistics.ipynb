{
 "cells": [
  {
   "cell_type": "code",
   "execution_count": 21,
   "metadata": {},
   "outputs": [],
   "source": [
    "import pandas as pd\n",
    "import sklearn\n",
    "import numpy as np\n",
    "import matplotlib.pyplot as plt\n",
    "import scipy\n",
    "from scipy import stats"
   ]
  },
  {
   "cell_type": "code",
   "execution_count": 22,
   "metadata": {
    "scrolled": true
   },
   "outputs": [],
   "source": [
    "df=pd.read_csv('WIBRS_with_pol.csv')\n"
   ]
  },
  {
   "cell_type": "code",
   "execution_count": 23,
   "metadata": {},
   "outputs": [
    {
     "name": "stdout",
     "output_type": "stream",
     "text": [
      "[0.9291591668809462, 0.928068303094984, 0.9503071919045898, 0.9005061460592914, 0.9388579274695097, 0.9552363299351251, 0.9169764560099133]\n"
     ]
    }
   ],
   "source": [
    "pers=[]\n",
    "for index in range(1,8):\n",
    "    df1=df[df['Police District']==index]\n",
    "    #df1.head(5)\n",
    "    guilt=df1[df1['j_finding']=='Guilty']\n",
    "    guilt= guilt.append(df1[df1['j_finding']=='Guilty - Suspended Sentence'])\n",
    "    #guilt.head(10)\n",
    "    per=len(guilt.index)/len(df1.index)\n",
    "    #print (per)\n",
    "    pers.append(per)\n",
    "print(pers)"
   ]
  },
  {
   "cell_type": "code",
   "execution_count": 24,
   "metadata": {},
   "outputs": [
    {
     "data": {
      "text/plain": [
       "Text(0, 0.5, 'Percentage of Guilty verdicts')"
      ]
     },
     "execution_count": 24,
     "metadata": {},
     "output_type": "execute_result"
    },
    {
     "data": {
      "image/png": "[encoded data removed]",
      "text/plain": [
       "<Figure size 432x288 with 1 Axes>"
      ]
     },
     "metadata": {
      "needs_background": "light"
     },
     "output_type": "display_data"
    }
   ],
   "source": [
    "#alpha=.05/7\n",
    "#pers=[per1,per2,per3,per4,per5,per6, per7]\n",
    "plt.bar(range(1,8), pers)\n",
    "plt.xlabel(\"Police Districts\")\n",
    "plt.ylabel(\"Percentage of Guilty verdicts\")"
   ]
  },
  {
   "cell_type": "code",
   "execution_count": 25,
   "metadata": {},
   "outputs": [
    {
     "name": "stdout",
     "output_type": "stream",
     "text": [
      "0.9026378367780002 0.9599654550375311\n"
     ]
    }
   ],
   "source": [
    "#stats.describe(aldP)\n",
    "conf=(1-.007142)\n",
    "n=7\n",
    "m=scipy.mean(pers)\n",
    "s=stats.sem(pers)\n",
    "\n",
    "h=s * stats.t.ppf((1 + conf) / 2, n - 1)\n",
    "\n",
    "print(m-h, m+h)"
   ]
  },
  {
   "cell_type": "code",
   "execution_count": 13,
   "metadata": {},
   "outputs": [
    {
     "data": {
      "text/html": [
       "<div>\n",
       "<style scoped>\n",
       "    .dataframe tbody tr th:only-of-type {\n",
       "        vertical-align: middle;\n",
       "    }\n",
       "\n",
       "    .dataframe tbody tr th {\n",
       "        vertical-align: top;\n",
       "    }\n",
       "\n",
       "    .dataframe thead th {\n",
       "        text-align: right;\n",
       "    }\n",
       "</style>\n",
       "<table border=\"1\" class=\"dataframe\">\n",
       "  <thead>\n",
       "    <tr style=\"text-align: right;\">\n",
       "      <th></th>\n",
       "      <th>Unnamed: 0</th>\n",
       "      <th>g_case_no</th>\n",
       "      <th>y_lat</th>\n",
       "      <th>x_lng</th>\n",
       "      <th>Aldermanic District</th>\n",
       "    </tr>\n",
       "  </thead>\n",
       "  <tbody>\n",
       "    <tr>\n",
       "      <th>count</th>\n",
       "      <td>65524.000000</td>\n",
       "      <td>6.552400e+04</td>\n",
       "      <td>65524.000000</td>\n",
       "      <td>65524.000000</td>\n",
       "      <td>64620.000000</td>\n",
       "    </tr>\n",
       "    <tr>\n",
       "      <th>mean</th>\n",
       "      <td>32762.511156</td>\n",
       "      <td>1.246199e+07</td>\n",
       "      <td>43.051071</td>\n",
       "      <td>-87.946704</td>\n",
       "      <td>7.012504</td>\n",
       "    </tr>\n",
       "    <tr>\n",
       "      <th>std</th>\n",
       "      <td>18916.455194</td>\n",
       "      <td>9.148597e+05</td>\n",
       "      <td>0.100865</td>\n",
       "      <td>0.071632</td>\n",
       "      <td>3.754960</td>\n",
       "    </tr>\n",
       "    <tr>\n",
       "      <th>min</th>\n",
       "      <td>0.000000</td>\n",
       "      <td>1.100000e+07</td>\n",
       "      <td>40.058324</td>\n",
       "      <td>-93.401263</td>\n",
       "      <td>0.000000</td>\n",
       "    </tr>\n",
       "    <tr>\n",
       "      <th>25%</th>\n",
       "      <td>16380.750000</td>\n",
       "      <td>1.202408e+07</td>\n",
       "      <td>43.022814</td>\n",
       "      <td>-87.964876</td>\n",
       "      <td>4.000000</td>\n",
       "    </tr>\n",
       "    <tr>\n",
       "      <th>50%</th>\n",
       "      <td>32761.500000</td>\n",
       "      <td>1.213204e+07</td>\n",
       "      <td>43.060747</td>\n",
       "      <td>-87.944026</td>\n",
       "      <td>8.000000</td>\n",
       "    </tr>\n",
       "    <tr>\n",
       "      <th>75%</th>\n",
       "      <td>49144.250000</td>\n",
       "      <td>1.307538e+07</td>\n",
       "      <td>43.087613</td>\n",
       "      <td>-87.922439</td>\n",
       "      <td>10.000000</td>\n",
       "    </tr>\n",
       "    <tr>\n",
       "      <th>max</th>\n",
       "      <td>65527.000000</td>\n",
       "      <td>1.403377e+07</td>\n",
       "      <td>45.643295</td>\n",
       "      <td>-74.405661</td>\n",
       "      <td>14.000000</td>\n",
       "    </tr>\n",
       "  </tbody>\n",
       "</table>\n",
       "</div>"
      ],
      "text/plain": [
       "         Unnamed: 0     g_case_no         y_lat         x_lng  \\\n",
       "count  65524.000000  6.552400e+04  65524.000000  65524.000000   \n",
       "mean   32762.511156  1.246199e+07     43.051071    -87.946704   \n",
       "std    18916.455194  9.148597e+05      0.100865      0.071632   \n",
       "min        0.000000  1.100000e+07     40.058324    -93.401263   \n",
       "25%    16380.750000  1.202408e+07     43.022814    -87.964876   \n",
       "50%    32761.500000  1.213204e+07     43.060747    -87.944026   \n",
       "75%    49144.250000  1.307538e+07     43.087613    -87.922439   \n",
       "max    65527.000000  1.403377e+07     45.643295    -74.405661   \n",
       "\n",
       "       Aldermanic District  \n",
       "count         64620.000000  \n",
       "mean              7.012504  \n",
       "std               3.754960  \n",
       "min               0.000000  \n",
       "25%               4.000000  \n",
       "50%               8.000000  \n",
       "75%              10.000000  \n",
       "max              14.000000  "
      ]
     },
     "execution_count": 13,
     "metadata": {},
     "output_type": "execute_result"
    }
   ],
   "source": [
    "df=pd.read_csv('WIBRS_with_ald.csv')\n",
    "\n",
    "df.describe()"
   ]
  },
  {
   "cell_type": "code",
   "execution_count": 14,
   "metadata": {},
   "outputs": [
    {
     "name": "stdout",
     "output_type": "stream",
     "text": [
      "0.923046721633294\n",
      "0.9376459598318543\n",
      "0.9128959276018099\n",
      "0.9368840427762634\n",
      "0.9350811485642946\n",
      "0.9472707592392144\n",
      "0.8987080103359173\n",
      "0.8898356664637858\n",
      "0.9515980685214992\n",
      "0.9240217804229455\n",
      "0.9498308906426156\n",
      "0.9574224889269896\n",
      "0.9337016574585635\n",
      "0.9123376623376623\n",
      "0.9084188911704312\n",
      "[0.923046721633294, 0.9376459598318543, 0.9128959276018099, 0.9368840427762634, 0.9350811485642946, 0.9472707592392144, 0.8987080103359173, 0.8898356664637858, 0.9515980685214992, 0.9240217804229455, 0.9498308906426156, 0.9574224889269896, 0.9337016574585635, 0.9123376623376623, 0.9084188911704312]\n"
     ]
    }
   ],
   "source": [
    "aldP=[]\n",
    "for index in range(0,15):\n",
    "    df1=df[df['Aldermanic District']==index]\n",
    "    #df1.head(5)\n",
    "    guilt=df1[df1['j_finding']=='Guilty']\n",
    "    guilt= guilt.append(df1[df1['j_finding']=='Guilty - Suspended Sentence'])\n",
    "    #guilt.head(10)\n",
    "    per=len(guilt.index)/len(df1.index)\n",
    "    #print (per)\n",
    "    aldP.append(per)\n",
    "print(aldP)"
   ]
  },
  {
   "cell_type": "code",
   "execution_count": 16,
   "metadata": {},
   "outputs": [
    {
     "data": {
      "text/plain": [
       "Text(0, 0.5, 'Percentage of Guilty verdicts')"
      ]
     },
     "execution_count": 16,
     "metadata": {},
     "output_type": "execute_result"
    },
    {
     "data": {
      "image/png": "[encoded data removed]",
      "text/plain": [
       "<Figure size 432x288 with 1 Axes>"
      ]
     },
     "metadata": {
      "needs_background": "light"
     },
     "output_type": "display_data"
    }
   ],
   "source": [
    "plt.bar(range(1,16), aldP)\n",
    "plt.xlabel(\"Aldermanic Districts\")\n",
    "plt.ylabel(\"Percentage of Guilty verdicts\")"
   ]
  },
  {
   "cell_type": "code",
   "execution_count": 20,
   "metadata": {},
   "outputs": [
    {
     "name": "stdout",
     "output_type": "stream",
     "text": [
      "0.9094653341776004 0.9463612892793516\n"
     ]
    }
   ],
   "source": [
    "#stats.describe(aldP)\n",
    "conf=(1-.00333333333333333333333333333333333333333333333333333333333)\n",
    "n=15\n",
    "m=scipy.mean(aldP)\n",
    "s=stats.sem(aldP)\n",
    "\n",
    "h=s * stats.t.ppf((1 + conf) / 2, n - 1)\n",
    "\n",
    "print(m-h, m+h)"
   ]
  },
  {
   "cell_type": "code",
   "execution_count": null,
   "metadata": {},
   "outputs": [],
   "source": []
  }
 ],
 "metadata": {
  "kernelspec": {
   "display_name": "Python 3",
   "language": "python",
   "name": "python3"
  },
  "language_info": {
   "codemirror_mode": {
    "name": "ipython",
    "version": 3
   },
   "file_extension": ".py",
   "mimetype": "text/x-python",
   "name": "python",
   "nbconvert_exporter": "python",
   "pygments_lexer": "ipython3",
   "version": "3.5.2"
  }
 },
 "nbformat": 4,
 "nbformat_minor": 2
}
