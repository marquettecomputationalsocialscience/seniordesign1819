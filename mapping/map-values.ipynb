{
 "cells": [
  {
   "cell_type": "code",
   "execution_count": 2,
   "metadata": {
    "scrolled": true
   },
   "outputs": [],
   "source": [
    "import shapefile\n",
    "from pyproj import Proj, transform\n",
    "#from mpl_toolkits.basemap import Basemap\n",
    "import matplotlib.pyplot as plt\n",
    "import pandas as pd\n",
    "from shapely.geometry import Point, Polygon\n",
    "import sys\n",
    "sys.path.append('../parsing')\n",
    "import accessDB as db\n",
    "%matplotlib inline\n",
    "\n",
    "# data from https://city.milwaukee.gov/DownloadMapData3497.htm\n",
    "# it is encoded in NAD27 in zone 4803 (Wisconsin South)"
   ]
  },
  {
   "cell_type": "code",
   "execution_count": 3,
   "metadata": {},
   "outputs": [],
   "source": [
    "# open a single file\n",
    "#f = open('ald2012.shp', 'rb')\n",
    "#sf = shapefile.Reader(shp=f)\n",
    "\n",
    "# load in maps\n",
    "ald = shapefile.Reader('ald2016/alderman')\n",
    "nbh = shapefile.Reader('hoods/neighborhood')\n",
    "pol = shapefile.Reader('poldist/poldist')\n",
    "ward = shapefile.Reader('wards/ward')\n",
    "city = shapefile.Reader('corp/citylimit')"
   ]
  },
  {
   "cell_type": "code",
   "execution_count": 4,
   "metadata": {},
   "outputs": [],
   "source": [
    "# converter for coordinates\n",
    "inProj = Proj(init='EPSG:32054', preserve_units=True) # NAD27 Wisconsin South\n",
    "outProj = Proj(proj='latlong', datum='WGS84', ellps='WGS84') # Latitude and Longitude"
   ]
  },
  {
   "cell_type": "code",
   "execution_count": 15,
   "metadata": {},
   "outputs": [],
   "source": [
    "def drawOne(sf, n):\n",
    "    # initialize plot size\n",
    "    plt.figure(figsize=(5,9)) # approx dimensions of MKE is 5:9\n",
    "    # limit bounds of the plot\n",
    "    plt.xlim(-88.1,-87.85)\n",
    "    plt.ylim(42.9,43.2)\n",
    "    m = plt\n",
    "\n",
    "    shape = sf.shapes()[n]\n",
    "    xs = []\n",
    "    ys = []\n",
    "\n",
    "    # loop through points\n",
    "    for point in shape.points:\n",
    "        # parse points\n",
    "        coord = [float('%.3f' % coord) for coord in point]\n",
    "        # convert points\n",
    "        x, y = transform(inProj, outProj, coord[0], coord[1])\n",
    "        # add to list\n",
    "        xs.append(x)\n",
    "        ys.append(y)\n",
    "\n",
    "    # plot shape\n",
    "    m.plot(xs, ys, '-')"
   ]
  },
  {
   "cell_type": "code",
   "execution_count": 30,
   "metadata": {},
   "outputs": [
    {
     "data": {
      "image/png": "[encoded data removed]",
      "text/plain": [
       "<Figure size 360x648 with 1 Axes>"
      ]
     },
     "metadata": {},
     "output_type": "display_data"
    }
   ],
   "source": [
    "drawOne(ald, 14)"
   ]
  },
  {
   "cell_type": "code",
   "execution_count": null,
   "metadata": {},
   "outputs": [],
   "source": []
  }
 ],
 "metadata": {
  "kernelspec": {
   "display_name": "Python 3",
   "language": "python",
   "name": "python3"
  },
  "language_info": {
   "codemirror_mode": {
    "name": "ipython",
    "version": 3
   },
   "file_extension": ".py",
   "mimetype": "text/x-python",
   "name": "python",
   "nbconvert_exporter": "python",
   "pygments_lexer": "ipython3",
   "version": "3.7.3"
  }
 },
 "nbformat": 4,
 "nbformat_minor": 2
}
