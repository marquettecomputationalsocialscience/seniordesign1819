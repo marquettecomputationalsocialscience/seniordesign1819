{
 "cells": [
  {
   "cell_type": "code",
   "execution_count": 1,
   "metadata": {},
   "outputs": [],
   "source": [
    "# Liam's script for looking at basic info about the data\n",
    "import pandas as pd\n",
    "import numpy as np\n",
    "import os\n",
    "import accessDB as db"
   ]
  },
  {
   "cell_type": "code",
   "execution_count": 2,
   "metadata": {},
   "outputs": [],
   "source": [
    "# Read raw data in\n",
    "df = db.filter(doGeoLoc=True)"
   ]
  },
  {
   "cell_type": "code",
   "execution_count": 3,
   "metadata": {},
   "outputs": [
    {
     "data": {
      "text/plain": [
       "357892"
      ]
     },
     "execution_count": 3,
     "metadata": {},
     "output_type": "execute_result"
    }
   ],
   "source": [
    "# Number of rows\n",
    "len(df.index)"
   ]
  },
  {
   "cell_type": "code",
   "execution_count": 4,
   "metadata": {},
   "outputs": [
    {
     "data": {
      "text/plain": [
       "265801"
      ]
     },
     "execution_count": 4,
     "metadata": {},
     "output_type": "execute_result"
    }
   ],
   "source": [
    "# Number of unique call numbers\n",
    "len(df['Call Number'].unique())"
   ]
  },
  {
   "cell_type": "code",
   "execution_count": 5,
   "metadata": {},
   "outputs": [
    {
     "data": {
      "text/plain": [
       "146882"
      ]
     },
     "execution_count": 5,
     "metadata": {},
     "output_type": "execute_result"
    }
   ],
   "source": [
    "# Number of rows containing missing data\n",
    "len(df[df.isnull().any(axis=1)].index)"
   ]
  },
  {
   "cell_type": "code",
   "execution_count": 6,
   "metadata": {},
   "outputs": [
    {
     "data": {
      "text/plain": [
       "8528"
      ]
     },
     "execution_count": 6,
     "metadata": {},
     "output_type": "execute_result"
    }
   ],
   "source": [
    "# Number of addresses not containing \"MKE\"\n",
    "len(df[df['Location'].str.contains('MKE') == False])"
   ]
  },
  {
   "cell_type": "code",
   "execution_count": 7,
   "metadata": {},
   "outputs": [
    {
     "data": {
      "text/plain": [
       "78106"
      ]
     },
     "execution_count": 7,
     "metadata": {},
     "output_type": "execute_result"
    }
   ],
   "source": [
    "# Number of unique locations\n",
    "len(df['Location'].value_counts())"
   ]
  },
  {
   "cell_type": "code",
   "execution_count": 8,
   "metadata": {},
   "outputs": [
    {
     "data": {
      "text/plain": [
       "2333 N 49TH ST,MKE              9305\n",
       "749 W STATE ST,MKE              7970\n",
       "3626 W FOND DU LAC AV,MKE       7908\n",
       "245 W LINCOLN AV,MKE            7420\n",
       "2920 N VEL R PHILLIPS AV,MKE    6978\n",
       "6929 W SILVER SPRING DR,MKE     6628\n",
       "3006 S 27TH ST,MKE              6154\n",
       "6680 N TEUTONIA AV,MKE          2495\n",
       "4715 W VLIET ST,MKE             2069\n",
       "949 N 9TH ST,MKE                1550\n",
       "Name: Location, dtype: int64"
      ]
     },
     "execution_count": 8,
     "metadata": {},
     "output_type": "execute_result"
    }
   ],
   "source": [
    "# Top 10 locations (police stations etc)\n",
    "df['Location'].value_counts().head(10)"
   ]
  },
  {
   "cell_type": "code",
   "execution_count": 9,
   "metadata": {},
   "outputs": [
    {
     "data": {
      "text/plain": [
       "BUSINESS CHECK     36227\n",
       "TRAFFIC STOP       33706\n",
       "TRBL W/SUBJ        20422\n",
       "RETURN STATION     19756\n",
       "FOLLOW UP          13259\n",
       "PATROL             11901\n",
       "WELFARE CITIZEN    10307\n",
       "REPORTS            10256\n",
       "ACC PDO             9255\n",
       "INVESTIGATION       9063\n",
       "Name: Nature of Call, dtype: int64"
      ]
     },
     "execution_count": 9,
     "metadata": {},
     "output_type": "execute_result"
    }
   ],
   "source": [
    "# Number of instances of each nature\n",
    "df['Nature of Call'].value_counts().head(10)"
   ]
  },
  {
   "cell_type": "code",
   "execution_count": 10,
   "metadata": {},
   "outputs": [
    {
     "data": {
      "text/plain": [
       "Service in Progress              125882\n",
       "Assignment Completed             117343\n",
       "Advised                           53416\n",
       "Unable to Locate Complainant      25855\n",
       "To be Filed                       13088\n",
       "City Citation(s) Issued           10481\n",
       "Advised/Referral                   6909\n",
       "Open Investigation                 3452\n",
       "No Prosecution                      410\n",
       "Cleared by Arrest                   367\n",
       "False Alarm                         264\n",
       "Filed Driver Exchange Report        239\n",
       "Referral                             97\n",
       "Patrol Request                       70\n",
       "False Alarm (Weather Related)        10\n",
       "State Citation(s) Issued              8\n",
       "Ordered to Appear                     1\n",
       "Name: Status, dtype: int64"
      ]
     },
     "execution_count": 10,
     "metadata": {},
     "output_type": "execute_result"
    }
   ],
   "source": [
    "# Number of instances of each status\n",
    "df['Status'].value_counts()"
   ]
  },
  {
   "cell_type": "code",
   "execution_count": 11,
   "metadata": {},
   "outputs": [
    {
     "data": {
      "text/plain": [
       "7       64696\n",
       "3       59985\n",
       "5       54118\n",
       "4       50191\n",
       "2       47977\n",
       "6       39619\n",
       "1       38839\n",
       "CITY      738\n",
       "SPD       712\n",
       "OCOE      492\n",
       "?         263\n",
       "OUT       147\n",
       "SCD        38\n",
       "DPR        34\n",
       "CIB        11\n",
       "FI         11\n",
       "ICS3        9\n",
       "NLA         3\n",
       "SID         3\n",
       "ICS1        2\n",
       "NTF         2\n",
       "TEU         2\n",
       "Name: Police District, dtype: int64"
      ]
     },
     "execution_count": 11,
     "metadata": {},
     "output_type": "execute_result"
    }
   ],
   "source": [
    "# Number of instances of each police district\n",
    "df['Police District'].value_counts()"
   ]
  },
  {
   "cell_type": "code",
   "execution_count": 12,
   "metadata": {},
   "outputs": [
    {
     "data": {
      "text/html": [
       "<div>\n",
       "<style scoped>\n",
       "    .dataframe tbody tr th:only-of-type {\n",
       "        vertical-align: middle;\n",
       "    }\n",
       "\n",
       "    .dataframe tbody tr th {\n",
       "        vertical-align: top;\n",
       "    }\n",
       "\n",
       "    .dataframe thead th {\n",
       "        text-align: right;\n",
       "    }\n",
       "</style>\n",
       "<table border=\"1\" class=\"dataframe\">\n",
       "  <thead>\n",
       "    <tr style=\"text-align: right;\">\n",
       "      <th></th>\n",
       "      <th>Call Number</th>\n",
       "      <th>Date/Time</th>\n",
       "      <th>Location</th>\n",
       "      <th>Police District</th>\n",
       "      <th>Nature of Call</th>\n",
       "      <th>Status</th>\n",
       "      <th>Latitude</th>\n",
       "      <th>Longitude</th>\n",
       "    </tr>\n",
       "    <tr>\n",
       "      <th>ID</th>\n",
       "      <th></th>\n",
       "      <th></th>\n",
       "      <th></th>\n",
       "      <th></th>\n",
       "      <th></th>\n",
       "      <th></th>\n",
       "      <th></th>\n",
       "      <th></th>\n",
       "    </tr>\n",
       "  </thead>\n",
       "  <tbody>\n",
       "    <tr>\n",
       "      <th>182682688-Service in Progress</th>\n",
       "      <td>182682688</td>\n",
       "      <td>2018-09-25 21:17:22</td>\n",
       "      <td>6500-BLK S 27TH, FRANKLIN</td>\n",
       "      <td>NLA</td>\n",
       "      <td>SPECIAL ASSIGN</td>\n",
       "      <td>Service in Progress</td>\n",
       "      <td>NaN</td>\n",
       "      <td>NaN</td>\n",
       "    </tr>\n",
       "    <tr>\n",
       "      <th>183020910-Service in Progress</th>\n",
       "      <td>183020910</td>\n",
       "      <td>2018-10-29 10:56:08</td>\n",
       "      <td>3128 GRAYDON AVE - EAST TROY WI</td>\n",
       "      <td>NLA</td>\n",
       "      <td>INVESTIGATION</td>\n",
       "      <td>Service in Progress</td>\n",
       "      <td>43.0113</td>\n",
       "      <td>-87.9584</td>\n",
       "    </tr>\n",
       "    <tr>\n",
       "      <th>183542300-Advised</th>\n",
       "      <td>183542300</td>\n",
       "      <td>2018-12-20 18:25:54</td>\n",
       "      <td>HAMPTON AT I43, MILWAUKEE, WI</td>\n",
       "      <td>NLA</td>\n",
       "      <td>TRAFFIC STOP</td>\n",
       "      <td>Advised</td>\n",
       "      <td>NaN</td>\n",
       "      <td>NaN</td>\n",
       "    </tr>\n",
       "  </tbody>\n",
       "</table>\n",
       "</div>"
      ],
      "text/plain": [
       "                               Call Number           Date/Time  \\\n",
       "ID                                                               \n",
       "182682688-Service in Progress    182682688 2018-09-25 21:17:22   \n",
       "183020910-Service in Progress    183020910 2018-10-29 10:56:08   \n",
       "183542300-Advised                183542300 2018-12-20 18:25:54   \n",
       "\n",
       "                                                      Location  \\\n",
       "ID                                                               \n",
       "182682688-Service in Progress        6500-BLK S 27TH, FRANKLIN   \n",
       "183020910-Service in Progress  3128 GRAYDON AVE - EAST TROY WI   \n",
       "183542300-Advised                HAMPTON AT I43, MILWAUKEE, WI   \n",
       "\n",
       "                              Police District  Nature of Call  \\\n",
       "ID                                                              \n",
       "182682688-Service in Progress             NLA  SPECIAL ASSIGN   \n",
       "183020910-Service in Progress             NLA   INVESTIGATION   \n",
       "183542300-Advised                         NLA    TRAFFIC STOP   \n",
       "\n",
       "                                            Status Latitude Longitude  \n",
       "ID                                                                     \n",
       "182682688-Service in Progress  Service in Progress      NaN       NaN  \n",
       "183020910-Service in Progress  Service in Progress  43.0113  -87.9584  \n",
       "183542300-Advised                          Advised      NaN       NaN  "
      ]
     },
     "execution_count": 12,
     "metadata": {},
     "output_type": "execute_result"
    }
   ],
   "source": [
    "# Items with NLA police district (example)\n",
    "df[df['Police District'] == 'NLA']"
   ]
  },
  {
   "cell_type": "code",
   "execution_count": 13,
   "metadata": {},
   "outputs": [
    {
     "data": {
      "text/html": [
       "<div>\n",
       "<style scoped>\n",
       "    .dataframe tbody tr th:only-of-type {\n",
       "        vertical-align: middle;\n",
       "    }\n",
       "\n",
       "    .dataframe tbody tr th {\n",
       "        vertical-align: top;\n",
       "    }\n",
       "\n",
       "    .dataframe thead th {\n",
       "        text-align: right;\n",
       "    }\n",
       "</style>\n",
       "<table border=\"1\" class=\"dataframe\">\n",
       "  <thead>\n",
       "    <tr style=\"text-align: right;\">\n",
       "      <th></th>\n",
       "      <th>Call Number</th>\n",
       "      <th>Date/Time</th>\n",
       "      <th>Location</th>\n",
       "      <th>Police District</th>\n",
       "      <th>Nature of Call</th>\n",
       "      <th>Status</th>\n",
       "      <th>Latitude</th>\n",
       "      <th>Longitude</th>\n",
       "    </tr>\n",
       "    <tr>\n",
       "      <th>ID</th>\n",
       "      <th></th>\n",
       "      <th></th>\n",
       "      <th></th>\n",
       "      <th></th>\n",
       "      <th></th>\n",
       "      <th></th>\n",
       "      <th></th>\n",
       "      <th></th>\n",
       "    </tr>\n",
       "  </thead>\n",
       "  <tbody>\n",
       "    <tr>\n",
       "      <th>182551924-False Alarm (Weather Related)</th>\n",
       "      <td>182551924</td>\n",
       "      <td>2018-09-12 16:35:18</td>\n",
       "      <td>3522 W LISBON AV,MKE</td>\n",
       "      <td>3</td>\n",
       "      <td>HOLDUP ALARM</td>\n",
       "      <td>False Alarm (Weather Related)</td>\n",
       "      <td>NaN</td>\n",
       "      <td>NaN</td>\n",
       "    </tr>\n",
       "    <tr>\n",
       "      <th>182640245-False Alarm (Weather Related)</th>\n",
       "      <td>182640245</td>\n",
       "      <td>2018-09-21 02:33:15</td>\n",
       "      <td>2620 W WISCONSIN AV,MKE</td>\n",
       "      <td>3</td>\n",
       "      <td>MPD MON ALARM</td>\n",
       "      <td>False Alarm (Weather Related)</td>\n",
       "      <td>43.0391</td>\n",
       "      <td>-87.947</td>\n",
       "    </tr>\n",
       "    <tr>\n",
       "      <th>182770332-False Alarm (Weather Related)</th>\n",
       "      <td>182770332</td>\n",
       "      <td>2018-10-04 03:44:38</td>\n",
       "      <td>5135 W HASSEL LA,MKE</td>\n",
       "      <td>4</td>\n",
       "      <td>ENTRY</td>\n",
       "      <td>False Alarm (Weather Related)</td>\n",
       "      <td>43.1381</td>\n",
       "      <td>-87.9766</td>\n",
       "    </tr>\n",
       "    <tr>\n",
       "      <th>182840307-False Alarm (Weather Related)</th>\n",
       "      <td>182840307</td>\n",
       "      <td>2018-10-11 03:02:23</td>\n",
       "      <td>1301 N 12TH ST,MKE</td>\n",
       "      <td>3</td>\n",
       "      <td>BURG/AUD GOVT</td>\n",
       "      <td>False Alarm (Weather Related)</td>\n",
       "      <td>43.0473</td>\n",
       "      <td>-87.9275</td>\n",
       "    </tr>\n",
       "    <tr>\n",
       "      <th>183641927-False Alarm (Weather Related)</th>\n",
       "      <td>183641927</td>\n",
       "      <td>2018-12-30 18:27:18</td>\n",
       "      <td>2333 N 49TH ST,MKE</td>\n",
       "      <td>3</td>\n",
       "      <td>RETURN STATION</td>\n",
       "      <td>False Alarm (Weather Related)</td>\n",
       "      <td>43.0614</td>\n",
       "      <td>-87.9755</td>\n",
       "    </tr>\n",
       "    <tr>\n",
       "      <th>190190621-False Alarm (Weather Related)</th>\n",
       "      <td>190190621</td>\n",
       "      <td>2019-01-19 08:55:14</td>\n",
       "      <td>225 W GREENFIELD AV,MKE</td>\n",
       "      <td>2</td>\n",
       "      <td>BURG/AUD BUSINES</td>\n",
       "      <td>False Alarm (Weather Related)</td>\n",
       "      <td>NaN</td>\n",
       "      <td>NaN</td>\n",
       "    </tr>\n",
       "    <tr>\n",
       "      <th>190260470-False Alarm (Weather Related)</th>\n",
       "      <td>190260470</td>\n",
       "      <td>2019-01-26 05:31:51</td>\n",
       "      <td>6894 N PARK MANOR DR,MKE</td>\n",
       "      <td>4</td>\n",
       "      <td>NOISE NUISANCE</td>\n",
       "      <td>False Alarm (Weather Related)</td>\n",
       "      <td>NaN</td>\n",
       "      <td>NaN</td>\n",
       "    </tr>\n",
       "    <tr>\n",
       "      <th>190310138-False Alarm (Weather Related)</th>\n",
       "      <td>190310138</td>\n",
       "      <td>2019-01-31 01:33:50</td>\n",
       "      <td>1615 E LOCUST ST,MKE</td>\n",
       "      <td>1</td>\n",
       "      <td>MEET MFD</td>\n",
       "      <td>False Alarm (Weather Related)</td>\n",
       "      <td>43.0704</td>\n",
       "      <td>-87.8903</td>\n",
       "    </tr>\n",
       "    <tr>\n",
       "      <th>190311153-False Alarm (Weather Related)</th>\n",
       "      <td>190311153</td>\n",
       "      <td>2019-01-31 12:32:47</td>\n",
       "      <td>4732 W LISBON AV,MKE</td>\n",
       "      <td>3</td>\n",
       "      <td>BURGLAR ALARM</td>\n",
       "      <td>False Alarm (Weather Related)</td>\n",
       "      <td>NaN</td>\n",
       "      <td>NaN</td>\n",
       "    </tr>\n",
       "    <tr>\n",
       "      <th>190380385-False Alarm (Weather Related)</th>\n",
       "      <td>190380385</td>\n",
       "      <td>2019-02-07 06:16:44</td>\n",
       "      <td>7550 W APPLETON AV,MKE</td>\n",
       "      <td>7</td>\n",
       "      <td>INVESTIGATION</td>\n",
       "      <td>False Alarm (Weather Related)</td>\n",
       "      <td>43.0113</td>\n",
       "      <td>-87.9584</td>\n",
       "    </tr>\n",
       "  </tbody>\n",
       "</table>\n",
       "</div>"
      ],
      "text/plain": [
       "                                         Call Number           Date/Time  \\\n",
       "ID                                                                         \n",
       "182551924-False Alarm (Weather Related)    182551924 2018-09-12 16:35:18   \n",
       "182640245-False Alarm (Weather Related)    182640245 2018-09-21 02:33:15   \n",
       "182770332-False Alarm (Weather Related)    182770332 2018-10-04 03:44:38   \n",
       "182840307-False Alarm (Weather Related)    182840307 2018-10-11 03:02:23   \n",
       "183641927-False Alarm (Weather Related)    183641927 2018-12-30 18:27:18   \n",
       "190190621-False Alarm (Weather Related)    190190621 2019-01-19 08:55:14   \n",
       "190260470-False Alarm (Weather Related)    190260470 2019-01-26 05:31:51   \n",
       "190310138-False Alarm (Weather Related)    190310138 2019-01-31 01:33:50   \n",
       "190311153-False Alarm (Weather Related)    190311153 2019-01-31 12:32:47   \n",
       "190380385-False Alarm (Weather Related)    190380385 2019-02-07 06:16:44   \n",
       "\n",
       "                                                         Location  \\\n",
       "ID                                                                  \n",
       "182551924-False Alarm (Weather Related)      3522 W LISBON AV,MKE   \n",
       "182640245-False Alarm (Weather Related)   2620 W WISCONSIN AV,MKE   \n",
       "182770332-False Alarm (Weather Related)      5135 W HASSEL LA,MKE   \n",
       "182840307-False Alarm (Weather Related)        1301 N 12TH ST,MKE   \n",
       "183641927-False Alarm (Weather Related)        2333 N 49TH ST,MKE   \n",
       "190190621-False Alarm (Weather Related)   225 W GREENFIELD AV,MKE   \n",
       "190260470-False Alarm (Weather Related)  6894 N PARK MANOR DR,MKE   \n",
       "190310138-False Alarm (Weather Related)      1615 E LOCUST ST,MKE   \n",
       "190311153-False Alarm (Weather Related)      4732 W LISBON AV,MKE   \n",
       "190380385-False Alarm (Weather Related)    7550 W APPLETON AV,MKE   \n",
       "\n",
       "                                        Police District    Nature of Call  \\\n",
       "ID                                                                          \n",
       "182551924-False Alarm (Weather Related)               3      HOLDUP ALARM   \n",
       "182640245-False Alarm (Weather Related)               3     MPD MON ALARM   \n",
       "182770332-False Alarm (Weather Related)               4             ENTRY   \n",
       "182840307-False Alarm (Weather Related)               3     BURG/AUD GOVT   \n",
       "183641927-False Alarm (Weather Related)               3    RETURN STATION   \n",
       "190190621-False Alarm (Weather Related)               2  BURG/AUD BUSINES   \n",
       "190260470-False Alarm (Weather Related)               4    NOISE NUISANCE   \n",
       "190310138-False Alarm (Weather Related)               1          MEET MFD   \n",
       "190311153-False Alarm (Weather Related)               3     BURGLAR ALARM   \n",
       "190380385-False Alarm (Weather Related)               7     INVESTIGATION   \n",
       "\n",
       "                                                                Status  \\\n",
       "ID                                                                       \n",
       "182551924-False Alarm (Weather Related)  False Alarm (Weather Related)   \n",
       "182640245-False Alarm (Weather Related)  False Alarm (Weather Related)   \n",
       "182770332-False Alarm (Weather Related)  False Alarm (Weather Related)   \n",
       "182840307-False Alarm (Weather Related)  False Alarm (Weather Related)   \n",
       "183641927-False Alarm (Weather Related)  False Alarm (Weather Related)   \n",
       "190190621-False Alarm (Weather Related)  False Alarm (Weather Related)   \n",
       "190260470-False Alarm (Weather Related)  False Alarm (Weather Related)   \n",
       "190310138-False Alarm (Weather Related)  False Alarm (Weather Related)   \n",
       "190311153-False Alarm (Weather Related)  False Alarm (Weather Related)   \n",
       "190380385-False Alarm (Weather Related)  False Alarm (Weather Related)   \n",
       "\n",
       "                                        Latitude Longitude  \n",
       "ID                                                          \n",
       "182551924-False Alarm (Weather Related)      NaN       NaN  \n",
       "182640245-False Alarm (Weather Related)  43.0391   -87.947  \n",
       "182770332-False Alarm (Weather Related)  43.1381  -87.9766  \n",
       "182840307-False Alarm (Weather Related)  43.0473  -87.9275  \n",
       "183641927-False Alarm (Weather Related)  43.0614  -87.9755  \n",
       "190190621-False Alarm (Weather Related)      NaN       NaN  \n",
       "190260470-False Alarm (Weather Related)      NaN       NaN  \n",
       "190310138-False Alarm (Weather Related)  43.0704  -87.8903  \n",
       "190311153-False Alarm (Weather Related)      NaN       NaN  \n",
       "190380385-False Alarm (Weather Related)  43.0113  -87.9584  "
      ]
     },
     "execution_count": 13,
     "metadata": {},
     "output_type": "execute_result"
    }
   ],
   "source": [
    "# Items originating from false alarms (example)\n",
    "df[df['Status'] == 'False Alarm (Weather Related)']"
   ]
  },
  {
   "cell_type": "code",
   "execution_count": 14,
   "metadata": {},
   "outputs": [],
   "source": [
    "pd.DataFrame(df['Nature of Call'].unique()).to_csv('natures.csv')"
   ]
  },
  {
   "cell_type": "code",
   "execution_count": 15,
   "metadata": {},
   "outputs": [],
   "source": [
    "#addrDict = {'Location': df['Location'].unique(), 'Cleaned Location': '', 'Latitude': '', 'Longitude': ''}\n",
    "#pd.DataFrame(addrDict).set_index(['Location']).to_csv('addresses.csv')"
   ]
  },
  {
   "cell_type": "code",
   "execution_count": null,
   "metadata": {},
   "outputs": [],
   "source": []
  }
 ],
 "metadata": {
  "kernelspec": {
   "display_name": "Python 3",
   "language": "python",
   "name": "python3"
  },
  "language_info": {
   "codemirror_mode": {
    "name": "ipython",
    "version": 3
   },
   "file_extension": ".py",
   "mimetype": "text/x-python",
   "name": "python",
   "nbconvert_exporter": "python",
   "pygments_lexer": "ipython3",
   "version": "3.6.8"
  }
 },
 "nbformat": 4,
 "nbformat_minor": 2
}
