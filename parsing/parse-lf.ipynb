{
 "cells": [
  {
   "cell_type": "code",
   "execution_count": 16,
   "metadata": {},
   "outputs": [],
   "source": [
    "# Liam's script for looking at basic info about the data\n",
    "import pandas as pd\n",
    "import numpy as np\n",
    "import os\n",
    "import accessDB as db"
   ]
  },
  {
   "cell_type": "code",
   "execution_count": 17,
   "metadata": {},
   "outputs": [],
   "source": [
    "# Read raw data in\n",
    "df = db.filter(doGeoLoc=True)"
   ]
  },
  {
   "cell_type": "code",
   "execution_count": 18,
   "metadata": {},
   "outputs": [
    {
     "data": {
      "text/plain": [
       "179781"
      ]
     },
     "execution_count": 18,
     "metadata": {},
     "output_type": "execute_result"
    }
   ],
   "source": [
    "# Number of rows\n",
    "len(df.index)"
   ]
  },
  {
   "cell_type": "code",
   "execution_count": 19,
   "metadata": {},
   "outputs": [
    {
     "data": {
      "text/plain": [
       "132526"
      ]
     },
     "execution_count": 19,
     "metadata": {},
     "output_type": "execute_result"
    }
   ],
   "source": [
    "# Number of unique call numbers\n",
    "len(df['Call Number'].unique())"
   ]
  },
  {
   "cell_type": "code",
   "execution_count": 20,
   "metadata": {},
   "outputs": [
    {
     "data": {
      "text/plain": [
       "63803"
      ]
     },
     "execution_count": 20,
     "metadata": {},
     "output_type": "execute_result"
    }
   ],
   "source": [
    "# Number of rows containing missing data\n",
    "len(df[df.isnull().any(axis=1)].index)"
   ]
  },
  {
   "cell_type": "code",
   "execution_count": 21,
   "metadata": {},
   "outputs": [
    {
     "data": {
      "text/plain": [
       "4384"
      ]
     },
     "execution_count": 21,
     "metadata": {},
     "output_type": "execute_result"
    }
   ],
   "source": [
    "# Number of addresses not containing \"MKE\"\n",
    "len(df[df['Location'].str.contains('MKE') == False])"
   ]
  },
  {
   "cell_type": "code",
   "execution_count": 22,
   "metadata": {},
   "outputs": [
    {
     "data": {
      "text/plain": [
       "49776"
      ]
     },
     "execution_count": 22,
     "metadata": {},
     "output_type": "execute_result"
    }
   ],
   "source": [
    "# Number of unique locations\n",
    "len(df['Location'].value_counts())"
   ]
  },
  {
   "cell_type": "code",
   "execution_count": 23,
   "metadata": {},
   "outputs": [
    {
     "data": {
      "text/plain": [
       "2333 N 49TH ST,MKE              4405\n",
       "3626 W FOND DU LAC AV,MKE       3962\n",
       "749 W STATE ST,MKE              3803\n",
       "245 W LINCOLN AV,MKE            3619\n",
       "6929 W SILVER SPRING DR,MKE     3291\n",
       "2920 N VEL R PHILLIPS AV,MKE    3090\n",
       "3006 S 27TH ST,MKE              2979\n",
       "6680 N TEUTONIA AV,MKE          1281\n",
       "4715 W VLIET ST,MKE              943\n",
       "949 N 9TH ST,MKE                 832\n",
       "Name: Location, dtype: int64"
      ]
     },
     "execution_count": 23,
     "metadata": {},
     "output_type": "execute_result"
    }
   ],
   "source": [
    "# Top 10 locations (police stations etc)\n",
    "df['Location'].value_counts().head(10)"
   ]
  },
  {
   "cell_type": "code",
   "execution_count": 24,
   "metadata": {},
   "outputs": [
    {
     "data": {
      "text/plain": [
       "TRAFFIC STOP       16891\n",
       "BUSINESS CHECK     13806\n",
       "TRBL W/SUBJ        10977\n",
       "RETURN STATION      9380\n",
       "FOLLOW UP           6723\n",
       "REPORTS             5210\n",
       "WELFARE CITIZEN     5071\n",
       "PATROL              4911\n",
       "ACC PDO             4580\n",
       "INVESTIGATION       4358\n",
       "Name: Nature of Call, dtype: int64"
      ]
     },
     "execution_count": 24,
     "metadata": {},
     "output_type": "execute_result"
    }
   ],
   "source": [
    "# Number of instances of each nature\n",
    "df['Nature of Call'].value_counts().head(10)"
   ]
  },
  {
   "cell_type": "code",
   "execution_count": 25,
   "metadata": {},
   "outputs": [
    {
     "data": {
      "text/plain": [
       "Service in Progress              64947\n",
       "Assignment Completed             53735\n",
       "Advised                          27935\n",
       "Unable to Locate Complainant     14272\n",
       "To be Filed                       7040\n",
       "City Citation(s) Issued           5333\n",
       "Advised/Referral                  3797\n",
       "Open Investigation                1882\n",
       "No Prosecution                     241\n",
       "Cleared by Arrest                  205\n",
       "False Alarm                        150\n",
       "Filed Driver Exchange Report       127\n",
       "Patrol Request                      54\n",
       "Referral                            52\n",
       "State Citation(s) Issued             6\n",
       "False Alarm (Weather Related)        4\n",
       "Ordered to Appear                    1\n",
       "Name: Status, dtype: int64"
      ]
     },
     "execution_count": 25,
     "metadata": {},
     "output_type": "execute_result"
    }
   ],
   "source": [
    "# Number of instances of each status\n",
    "df['Status'].value_counts()"
   ]
  },
  {
   "cell_type": "code",
   "execution_count": 26,
   "metadata": {},
   "outputs": [
    {
     "data": {
      "text/plain": [
       "7       31494\n",
       "3       29386\n",
       "5       27027\n",
       "4       24966\n",
       "2       24482\n",
       "6       19768\n",
       "1       19462\n",
       "CITY      371\n",
       "7         363\n",
       "5         333\n",
       "3         303\n",
       "6         273\n",
       "4         271\n",
       "2         266\n",
       "?         263\n",
       "OCOE      240\n",
       "SPD       220\n",
       "1         163\n",
       "OUT        73\n",
       "DPR        20\n",
       "SCD        20\n",
       "ICS3        7\n",
       "CIB         4\n",
       "NLA         2\n",
       "FI          2\n",
       "NTF         2\n",
       "Name: Police District, dtype: int64"
      ]
     },
     "execution_count": 26,
     "metadata": {},
     "output_type": "execute_result"
    }
   ],
   "source": [
    "# Number of instances of each police district\n",
    "df['Police District'].value_counts()"
   ]
  },
  {
   "cell_type": "code",
   "execution_count": 27,
   "metadata": {},
   "outputs": [
    {
     "data": {
      "text/html": [
       "<div>\n",
       "<style scoped>\n",
       "    .dataframe tbody tr th:only-of-type {\n",
       "        vertical-align: middle;\n",
       "    }\n",
       "\n",
       "    .dataframe tbody tr th {\n",
       "        vertical-align: top;\n",
       "    }\n",
       "\n",
       "    .dataframe thead th {\n",
       "        text-align: right;\n",
       "    }\n",
       "</style>\n",
       "<table border=\"1\" class=\"dataframe\">\n",
       "  <thead>\n",
       "    <tr style=\"text-align: right;\">\n",
       "      <th></th>\n",
       "      <th>Call Number</th>\n",
       "      <th>Date/Time</th>\n",
       "      <th>Location</th>\n",
       "      <th>Police District</th>\n",
       "      <th>Nature of Call</th>\n",
       "      <th>Status</th>\n",
       "      <th>Latitude</th>\n",
       "      <th>Longitude</th>\n",
       "    </tr>\n",
       "    <tr>\n",
       "      <th>ID</th>\n",
       "      <th></th>\n",
       "      <th></th>\n",
       "      <th></th>\n",
       "      <th></th>\n",
       "      <th></th>\n",
       "      <th></th>\n",
       "      <th></th>\n",
       "      <th></th>\n",
       "    </tr>\n",
       "  </thead>\n",
       "  <tbody>\n",
       "    <tr>\n",
       "      <th>182682688-Service in Progress</th>\n",
       "      <td>182682688</td>\n",
       "      <td>2018-09-25 21:17:22</td>\n",
       "      <td>6500-BLK S 27TH, FRANKLIN</td>\n",
       "      <td>NLA</td>\n",
       "      <td>SPECIAL ASSIGN</td>\n",
       "      <td>Service in Progress</td>\n",
       "      <td>NaN</td>\n",
       "      <td>NaN</td>\n",
       "    </tr>\n",
       "    <tr>\n",
       "      <th>183020910-Service in Progress</th>\n",
       "      <td>183020910</td>\n",
       "      <td>2018-10-29 10:56:08</td>\n",
       "      <td>3128 GRAYDON AVE - EAST TROY WI</td>\n",
       "      <td>NLA</td>\n",
       "      <td>INVESTIGATION</td>\n",
       "      <td>Service in Progress</td>\n",
       "      <td>43.0113</td>\n",
       "      <td>-87.9584</td>\n",
       "    </tr>\n",
       "  </tbody>\n",
       "</table>\n",
       "</div>"
      ],
      "text/plain": [
       "                               Call Number           Date/Time  \\\n",
       "ID                                                               \n",
       "182682688-Service in Progress    182682688 2018-09-25 21:17:22   \n",
       "183020910-Service in Progress    183020910 2018-10-29 10:56:08   \n",
       "\n",
       "                                                      Location  \\\n",
       "ID                                                               \n",
       "182682688-Service in Progress        6500-BLK S 27TH, FRANKLIN   \n",
       "183020910-Service in Progress  3128 GRAYDON AVE - EAST TROY WI   \n",
       "\n",
       "                              Police District  Nature of Call  \\\n",
       "ID                                                              \n",
       "182682688-Service in Progress             NLA  SPECIAL ASSIGN   \n",
       "183020910-Service in Progress             NLA   INVESTIGATION   \n",
       "\n",
       "                                            Status Latitude Longitude  \n",
       "ID                                                                     \n",
       "182682688-Service in Progress  Service in Progress      NaN       NaN  \n",
       "183020910-Service in Progress  Service in Progress  43.0113  -87.9584  "
      ]
     },
     "execution_count": 27,
     "metadata": {},
     "output_type": "execute_result"
    }
   ],
   "source": [
    "# Items with NLA police district (example)\n",
    "df[df['Police District'] == 'NLA']"
   ]
  },
  {
   "cell_type": "code",
   "execution_count": 28,
   "metadata": {},
   "outputs": [
    {
     "data": {
      "text/html": [
       "<div>\n",
       "<style scoped>\n",
       "    .dataframe tbody tr th:only-of-type {\n",
       "        vertical-align: middle;\n",
       "    }\n",
       "\n",
       "    .dataframe tbody tr th {\n",
       "        vertical-align: top;\n",
       "    }\n",
       "\n",
       "    .dataframe thead th {\n",
       "        text-align: right;\n",
       "    }\n",
       "</style>\n",
       "<table border=\"1\" class=\"dataframe\">\n",
       "  <thead>\n",
       "    <tr style=\"text-align: right;\">\n",
       "      <th></th>\n",
       "      <th>Call Number</th>\n",
       "      <th>Date/Time</th>\n",
       "      <th>Location</th>\n",
       "      <th>Police District</th>\n",
       "      <th>Nature of Call</th>\n",
       "      <th>Status</th>\n",
       "      <th>Latitude</th>\n",
       "      <th>Longitude</th>\n",
       "    </tr>\n",
       "    <tr>\n",
       "      <th>ID</th>\n",
       "      <th></th>\n",
       "      <th></th>\n",
       "      <th></th>\n",
       "      <th></th>\n",
       "      <th></th>\n",
       "      <th></th>\n",
       "      <th></th>\n",
       "      <th></th>\n",
       "    </tr>\n",
       "  </thead>\n",
       "  <tbody>\n",
       "    <tr>\n",
       "      <th>182551924-False Alarm (Weather Related)</th>\n",
       "      <td>182551924</td>\n",
       "      <td>2018-09-12 16:35:18</td>\n",
       "      <td>3522 W LISBON AV,MKE</td>\n",
       "      <td>3</td>\n",
       "      <td>HOLDUP ALARM</td>\n",
       "      <td>False Alarm (Weather Related)</td>\n",
       "      <td>NaN</td>\n",
       "      <td>NaN</td>\n",
       "    </tr>\n",
       "    <tr>\n",
       "      <th>182640245-False Alarm (Weather Related)</th>\n",
       "      <td>182640245</td>\n",
       "      <td>2018-09-21 02:33:15</td>\n",
       "      <td>2620 W WISCONSIN AV,MKE</td>\n",
       "      <td>3</td>\n",
       "      <td>MPD MON ALARM</td>\n",
       "      <td>False Alarm (Weather Related)</td>\n",
       "      <td>43.0391</td>\n",
       "      <td>-87.947</td>\n",
       "    </tr>\n",
       "    <tr>\n",
       "      <th>182770332-False Alarm (Weather Related)</th>\n",
       "      <td>182770332</td>\n",
       "      <td>2018-10-04 03:44:38</td>\n",
       "      <td>5135 W HASSEL LA,MKE</td>\n",
       "      <td>4</td>\n",
       "      <td>ENTRY</td>\n",
       "      <td>False Alarm (Weather Related)</td>\n",
       "      <td>43.1381</td>\n",
       "      <td>-87.9766</td>\n",
       "    </tr>\n",
       "    <tr>\n",
       "      <th>182840307-False Alarm (Weather Related)</th>\n",
       "      <td>182840307</td>\n",
       "      <td>2018-10-11 03:02:23</td>\n",
       "      <td>1301 N 12TH ST,MKE</td>\n",
       "      <td>3</td>\n",
       "      <td>BURG/AUD GOVT</td>\n",
       "      <td>False Alarm (Weather Related)</td>\n",
       "      <td>43.0473</td>\n",
       "      <td>-87.9275</td>\n",
       "    </tr>\n",
       "  </tbody>\n",
       "</table>\n",
       "</div>"
      ],
      "text/plain": [
       "                                         Call Number           Date/Time  \\\n",
       "ID                                                                         \n",
       "182551924-False Alarm (Weather Related)    182551924 2018-09-12 16:35:18   \n",
       "182640245-False Alarm (Weather Related)    182640245 2018-09-21 02:33:15   \n",
       "182770332-False Alarm (Weather Related)    182770332 2018-10-04 03:44:38   \n",
       "182840307-False Alarm (Weather Related)    182840307 2018-10-11 03:02:23   \n",
       "\n",
       "                                                        Location  \\\n",
       "ID                                                                 \n",
       "182551924-False Alarm (Weather Related)     3522 W LISBON AV,MKE   \n",
       "182640245-False Alarm (Weather Related)  2620 W WISCONSIN AV,MKE   \n",
       "182770332-False Alarm (Weather Related)     5135 W HASSEL LA,MKE   \n",
       "182840307-False Alarm (Weather Related)       1301 N 12TH ST,MKE   \n",
       "\n",
       "                                        Police District Nature of Call  \\\n",
       "ID                                                                       \n",
       "182551924-False Alarm (Weather Related)               3   HOLDUP ALARM   \n",
       "182640245-False Alarm (Weather Related)               3  MPD MON ALARM   \n",
       "182770332-False Alarm (Weather Related)               4          ENTRY   \n",
       "182840307-False Alarm (Weather Related)               3  BURG/AUD GOVT   \n",
       "\n",
       "                                                                Status  \\\n",
       "ID                                                                       \n",
       "182551924-False Alarm (Weather Related)  False Alarm (Weather Related)   \n",
       "182640245-False Alarm (Weather Related)  False Alarm (Weather Related)   \n",
       "182770332-False Alarm (Weather Related)  False Alarm (Weather Related)   \n",
       "182840307-False Alarm (Weather Related)  False Alarm (Weather Related)   \n",
       "\n",
       "                                        Latitude Longitude  \n",
       "ID                                                          \n",
       "182551924-False Alarm (Weather Related)      NaN       NaN  \n",
       "182640245-False Alarm (Weather Related)  43.0391   -87.947  \n",
       "182770332-False Alarm (Weather Related)  43.1381  -87.9766  \n",
       "182840307-False Alarm (Weather Related)  43.0473  -87.9275  "
      ]
     },
     "execution_count": 28,
     "metadata": {},
     "output_type": "execute_result"
    }
   ],
   "source": [
    "# Items originating from false alarms (example)\n",
    "df[df['Status'] == 'False Alarm (Weather Related)']"
   ]
  },
  {
   "cell_type": "code",
   "execution_count": 29,
   "metadata": {},
   "outputs": [],
   "source": [
    "pd.DataFrame(df['Nature of Call'].unique()).to_csv('natures.csv')"
   ]
  },
  {
   "cell_type": "code",
   "execution_count": 30,
   "metadata": {},
   "outputs": [],
   "source": [
    "addrDict = {'Location': df['Location'].unique(), 'Cleaned Location': '', 'Latitude': '', 'Longitude': ''}\n",
    "pd.DataFrame(addrDict).set_index(['Location']).to_csv('addresses.csv')"
   ]
  },
  {
   "cell_type": "code",
   "execution_count": null,
   "metadata": {},
   "outputs": [],
   "source": []
  }
 ],
 "metadata": {
  "kernelspec": {
   "display_name": "Python 3",
   "language": "python",
   "name": "python3"
  },
  "language_info": {
   "codemirror_mode": {
    "name": "ipython",
    "version": 3
   },
   "file_extension": ".py",
   "mimetype": "text/x-python",
   "name": "python",
   "nbconvert_exporter": "python",
   "pygments_lexer": "ipython3",
   "version": "3.6.7"
  }
 },
 "nbformat": 4,
 "nbformat_minor": 2
}
