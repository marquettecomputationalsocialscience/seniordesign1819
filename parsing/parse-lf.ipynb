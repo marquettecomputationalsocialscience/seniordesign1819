{
 "cells": [
  {
   "cell_type": "code",
   "execution_count": 1,
   "metadata": {},
   "outputs": [],
   "source": [
    "# Liam's script for looking at basic info about the data\n",
    "import pandas as pd\n",
    "import numpy as np\n",
    "import os\n",
    "import accessDB as db"
   ]
  },
  {
   "cell_type": "code",
   "execution_count": 2,
   "metadata": {},
   "outputs": [],
   "source": [
    "# Read raw data in\n",
    "df = db.filter(doGeoLoc=True)"
   ]
  },
  {
   "cell_type": "code",
   "execution_count": 3,
   "metadata": {},
   "outputs": [
    {
     "data": {
      "text/plain": [
       "323792"
      ]
     },
     "execution_count": 3,
     "metadata": {},
     "output_type": "execute_result"
    }
   ],
   "source": [
    "# Number of rows\n",
    "len(df.index)"
   ]
  },
  {
   "cell_type": "code",
   "execution_count": 4,
   "metadata": {},
   "outputs": [
    {
     "data": {
      "text/plain": [
       "240837"
      ]
     },
     "execution_count": 4,
     "metadata": {},
     "output_type": "execute_result"
    }
   ],
   "source": [
    "# Number of unique call numbers\n",
    "len(df['Call Number'].unique())"
   ]
  },
  {
   "cell_type": "code",
   "execution_count": 5,
   "metadata": {},
   "outputs": [
    {
     "data": {
      "text/plain": [
       "131529"
      ]
     },
     "execution_count": 5,
     "metadata": {},
     "output_type": "execute_result"
    }
   ],
   "source": [
    "# Number of rows containing missing data\n",
    "len(df[df.isnull().any(axis=1)].index)"
   ]
  },
  {
   "cell_type": "code",
   "execution_count": 6,
   "metadata": {},
   "outputs": [
    {
     "data": {
      "text/plain": [
       "7780"
      ]
     },
     "execution_count": 6,
     "metadata": {},
     "output_type": "execute_result"
    }
   ],
   "source": [
    "# Number of addresses not containing \"MKE\"\n",
    "len(df[df['Location'].str.contains('MKE') == False])"
   ]
  },
  {
   "cell_type": "code",
   "execution_count": 7,
   "metadata": {},
   "outputs": [
    {
     "data": {
      "text/plain": [
       "73563"
      ]
     },
     "execution_count": 7,
     "metadata": {},
     "output_type": "execute_result"
    }
   ],
   "source": [
    "# Number of unique locations\n",
    "len(df['Location'].value_counts())"
   ]
  },
  {
   "cell_type": "code",
   "execution_count": 8,
   "metadata": {},
   "outputs": [
    {
     "data": {
      "text/plain": [
       "2333 N 49TH ST,MKE              8310\n",
       "3626 W FOND DU LAC AV,MKE       6992\n",
       "749 W STATE ST,MKE              6929\n",
       "245 W LINCOLN AV,MKE            6593\n",
       "2920 N VEL R PHILLIPS AV,MKE    6112\n",
       "6929 W SILVER SPRING DR,MKE     5898\n",
       "3006 S 27TH ST,MKE              5395\n",
       "6680 N TEUTONIA AV,MKE          2267\n",
       "4715 W VLIET ST,MKE             1819\n",
       "949 N 9TH ST,MKE                1437\n",
       "Name: Location, dtype: int64"
      ]
     },
     "execution_count": 8,
     "metadata": {},
     "output_type": "execute_result"
    }
   ],
   "source": [
    "# Top 10 locations (police stations etc)\n",
    "df['Location'].value_counts().head(10)"
   ]
  },
  {
   "cell_type": "code",
   "execution_count": 9,
   "metadata": {},
   "outputs": [
    {
     "data": {
      "text/plain": [
       "BUSINESS CHECK     32697\n",
       "TRAFFIC STOP       30986\n",
       "TRBL W/SUBJ        18571\n",
       "RETURN STATION     17292\n",
       "FOLLOW UP          12033\n",
       "PATROL             10170\n",
       "REPORTS             9150\n",
       "WELFARE CITIZEN     9005\n",
       "INVESTIGATION       8040\n",
       "ACC PDO             8018\n",
       "Name: Nature of Call, dtype: int64"
      ]
     },
     "execution_count": 9,
     "metadata": {},
     "output_type": "execute_result"
    }
   ],
   "source": [
    "# Number of instances of each nature\n",
    "df['Nature of Call'].value_counts().head(10)"
   ]
  },
  {
   "cell_type": "code",
   "execution_count": 10,
   "metadata": {},
   "outputs": [
    {
     "data": {
      "text/plain": [
       "Service in Progress              113582\n",
       "Assignment Completed             105210\n",
       "Advised                           48768\n",
       "Unable to Locate Complainant      23740\n",
       "To be Filed                       11914\n",
       "City Citation(s) Issued            9774\n",
       "Advised/Referral                   6318\n",
       "Open Investigation                 3148\n",
       "No Prosecution                      368\n",
       "Cleared by Arrest                   345\n",
       "False Alarm                         235\n",
       "Filed Driver Exchange Report        215\n",
       "Referral                             91\n",
       "Patrol Request                       69\n",
       "State Citation(s) Issued              8\n",
       "False Alarm (Weather Related)         6\n",
       "Ordered to Appear                     1\n",
       "Name: Status, dtype: int64"
      ]
     },
     "execution_count": 10,
     "metadata": {},
     "output_type": "execute_result"
    }
   ],
   "source": [
    "# Number of instances of each status\n",
    "df['Status'].value_counts()"
   ]
  },
  {
   "cell_type": "code",
   "execution_count": 11,
   "metadata": {},
   "outputs": [
    {
     "data": {
      "text/plain": [
       "7       58868\n",
       "3       54013\n",
       "5       48769\n",
       "4       45367\n",
       "2       43597\n",
       "6       35856\n",
       "1       35019\n",
       "SPD       681\n",
       "CITY      652\n",
       "OCOE      473\n",
       "?         263\n",
       "OUT       136\n",
       "SCD        33\n",
       "DPR        30\n",
       "ICS3        9\n",
       "CIB         9\n",
       "FI          5\n",
       "SID         3\n",
       "NLA         3\n",
       "NTF         2\n",
       "TEU         2\n",
       "ICS1        2\n",
       "Name: Police District, dtype: int64"
      ]
     },
     "execution_count": 11,
     "metadata": {},
     "output_type": "execute_result"
    }
   ],
   "source": [
    "# Number of instances of each police district\n",
    "df['Police District'].value_counts()"
   ]
  },
  {
   "cell_type": "code",
   "execution_count": 12,
   "metadata": {},
   "outputs": [
    {
     "data": {
      "text/html": [
       "<div>\n",
       "<style scoped>\n",
       "    .dataframe tbody tr th:only-of-type {\n",
       "        vertical-align: middle;\n",
       "    }\n",
       "\n",
       "    .dataframe tbody tr th {\n",
       "        vertical-align: top;\n",
       "    }\n",
       "\n",
       "    .dataframe thead th {\n",
       "        text-align: right;\n",
       "    }\n",
       "</style>\n",
       "<table border=\"1\" class=\"dataframe\">\n",
       "  <thead>\n",
       "    <tr style=\"text-align: right;\">\n",
       "      <th></th>\n",
       "      <th>Call Number</th>\n",
       "      <th>Date/Time</th>\n",
       "      <th>Location</th>\n",
       "      <th>Police District</th>\n",
       "      <th>Nature of Call</th>\n",
       "      <th>Status</th>\n",
       "      <th>Latitude</th>\n",
       "      <th>Longitude</th>\n",
       "    </tr>\n",
       "    <tr>\n",
       "      <th>ID</th>\n",
       "      <th></th>\n",
       "      <th></th>\n",
       "      <th></th>\n",
       "      <th></th>\n",
       "      <th></th>\n",
       "      <th></th>\n",
       "      <th></th>\n",
       "      <th></th>\n",
       "    </tr>\n",
       "  </thead>\n",
       "  <tbody>\n",
       "    <tr>\n",
       "      <th>182682688-Service in Progress</th>\n",
       "      <td>182682688</td>\n",
       "      <td>2018-09-25 21:17:22</td>\n",
       "      <td>6500-BLK S 27TH, FRANKLIN</td>\n",
       "      <td>NLA</td>\n",
       "      <td>SPECIAL ASSIGN</td>\n",
       "      <td>Service in Progress</td>\n",
       "      <td>NaN</td>\n",
       "      <td>NaN</td>\n",
       "    </tr>\n",
       "    <tr>\n",
       "      <th>183020910-Service in Progress</th>\n",
       "      <td>183020910</td>\n",
       "      <td>2018-10-29 10:56:08</td>\n",
       "      <td>3128 GRAYDON AVE - EAST TROY WI</td>\n",
       "      <td>NLA</td>\n",
       "      <td>INVESTIGATION</td>\n",
       "      <td>Service in Progress</td>\n",
       "      <td>43.0113</td>\n",
       "      <td>-87.9584</td>\n",
       "    </tr>\n",
       "    <tr>\n",
       "      <th>183542300-Advised</th>\n",
       "      <td>183542300</td>\n",
       "      <td>2018-12-20 18:25:54</td>\n",
       "      <td>HAMPTON AT I43, MILWAUKEE, WI</td>\n",
       "      <td>NLA</td>\n",
       "      <td>TRAFFIC STOP</td>\n",
       "      <td>Advised</td>\n",
       "      <td>NaN</td>\n",
       "      <td>NaN</td>\n",
       "    </tr>\n",
       "  </tbody>\n",
       "</table>\n",
       "</div>"
      ],
      "text/plain": [
       "                               Call Number           Date/Time  \\\n",
       "ID                                                               \n",
       "182682688-Service in Progress    182682688 2018-09-25 21:17:22   \n",
       "183020910-Service in Progress    183020910 2018-10-29 10:56:08   \n",
       "183542300-Advised                183542300 2018-12-20 18:25:54   \n",
       "\n",
       "                                                      Location  \\\n",
       "ID                                                               \n",
       "182682688-Service in Progress        6500-BLK S 27TH, FRANKLIN   \n",
       "183020910-Service in Progress  3128 GRAYDON AVE - EAST TROY WI   \n",
       "183542300-Advised                HAMPTON AT I43, MILWAUKEE, WI   \n",
       "\n",
       "                              Police District  Nature of Call  \\\n",
       "ID                                                              \n",
       "182682688-Service in Progress             NLA  SPECIAL ASSIGN   \n",
       "183020910-Service in Progress             NLA   INVESTIGATION   \n",
       "183542300-Advised                         NLA    TRAFFIC STOP   \n",
       "\n",
       "                                            Status Latitude Longitude  \n",
       "ID                                                                     \n",
       "182682688-Service in Progress  Service in Progress      NaN       NaN  \n",
       "183020910-Service in Progress  Service in Progress  43.0113  -87.9584  \n",
       "183542300-Advised                          Advised      NaN       NaN  "
      ]
     },
     "execution_count": 12,
     "metadata": {},
     "output_type": "execute_result"
    }
   ],
   "source": [
    "# Items with NLA police district (example)\n",
    "df[df['Police District'] == 'NLA']"
   ]
  },
  {
   "cell_type": "code",
   "execution_count": 13,
   "metadata": {},
   "outputs": [
    {
     "data": {
      "text/html": [
       "<div>\n",
       "<style scoped>\n",
       "    .dataframe tbody tr th:only-of-type {\n",
       "        vertical-align: middle;\n",
       "    }\n",
       "\n",
       "    .dataframe tbody tr th {\n",
       "        vertical-align: top;\n",
       "    }\n",
       "\n",
       "    .dataframe thead th {\n",
       "        text-align: right;\n",
       "    }\n",
       "</style>\n",
       "<table border=\"1\" class=\"dataframe\">\n",
       "  <thead>\n",
       "    <tr style=\"text-align: right;\">\n",
       "      <th></th>\n",
       "      <th>Call Number</th>\n",
       "      <th>Date/Time</th>\n",
       "      <th>Location</th>\n",
       "      <th>Police District</th>\n",
       "      <th>Nature of Call</th>\n",
       "      <th>Status</th>\n",
       "      <th>Latitude</th>\n",
       "      <th>Longitude</th>\n",
       "    </tr>\n",
       "    <tr>\n",
       "      <th>ID</th>\n",
       "      <th></th>\n",
       "      <th></th>\n",
       "      <th></th>\n",
       "      <th></th>\n",
       "      <th></th>\n",
       "      <th></th>\n",
       "      <th></th>\n",
       "      <th></th>\n",
       "    </tr>\n",
       "  </thead>\n",
       "  <tbody>\n",
       "    <tr>\n",
       "      <th>182551924-False Alarm (Weather Related)</th>\n",
       "      <td>182551924</td>\n",
       "      <td>2018-09-12 16:35:18</td>\n",
       "      <td>3522 W LISBON AV,MKE</td>\n",
       "      <td>3</td>\n",
       "      <td>HOLDUP ALARM</td>\n",
       "      <td>False Alarm (Weather Related)</td>\n",
       "      <td>NaN</td>\n",
       "      <td>NaN</td>\n",
       "    </tr>\n",
       "    <tr>\n",
       "      <th>182640245-False Alarm (Weather Related)</th>\n",
       "      <td>182640245</td>\n",
       "      <td>2018-09-21 02:33:15</td>\n",
       "      <td>2620 W WISCONSIN AV,MKE</td>\n",
       "      <td>3</td>\n",
       "      <td>MPD MON ALARM</td>\n",
       "      <td>False Alarm (Weather Related)</td>\n",
       "      <td>43.0391</td>\n",
       "      <td>-87.947</td>\n",
       "    </tr>\n",
       "    <tr>\n",
       "      <th>182770332-False Alarm (Weather Related)</th>\n",
       "      <td>182770332</td>\n",
       "      <td>2018-10-04 03:44:38</td>\n",
       "      <td>5135 W HASSEL LA,MKE</td>\n",
       "      <td>4</td>\n",
       "      <td>ENTRY</td>\n",
       "      <td>False Alarm (Weather Related)</td>\n",
       "      <td>43.1381</td>\n",
       "      <td>-87.9766</td>\n",
       "    </tr>\n",
       "    <tr>\n",
       "      <th>182840307-False Alarm (Weather Related)</th>\n",
       "      <td>182840307</td>\n",
       "      <td>2018-10-11 03:02:23</td>\n",
       "      <td>1301 N 12TH ST,MKE</td>\n",
       "      <td>3</td>\n",
       "      <td>BURG/AUD GOVT</td>\n",
       "      <td>False Alarm (Weather Related)</td>\n",
       "      <td>43.0473</td>\n",
       "      <td>-87.9275</td>\n",
       "    </tr>\n",
       "    <tr>\n",
       "      <th>183641927-False Alarm (Weather Related)</th>\n",
       "      <td>183641927</td>\n",
       "      <td>2018-12-30 18:27:18</td>\n",
       "      <td>2333 N 49TH ST,MKE</td>\n",
       "      <td>3</td>\n",
       "      <td>RETURN STATION</td>\n",
       "      <td>False Alarm (Weather Related)</td>\n",
       "      <td>43.0614</td>\n",
       "      <td>-87.9755</td>\n",
       "    </tr>\n",
       "    <tr>\n",
       "      <th>190190621-False Alarm (Weather Related)</th>\n",
       "      <td>190190621</td>\n",
       "      <td>2019-01-19 08:55:14</td>\n",
       "      <td>225 W GREENFIELD AV,MKE</td>\n",
       "      <td>2</td>\n",
       "      <td>BURG/AUD BUSINES</td>\n",
       "      <td>False Alarm (Weather Related)</td>\n",
       "      <td>NaN</td>\n",
       "      <td>NaN</td>\n",
       "    </tr>\n",
       "  </tbody>\n",
       "</table>\n",
       "</div>"
      ],
      "text/plain": [
       "                                         Call Number           Date/Time  \\\n",
       "ID                                                                         \n",
       "182551924-False Alarm (Weather Related)    182551924 2018-09-12 16:35:18   \n",
       "182640245-False Alarm (Weather Related)    182640245 2018-09-21 02:33:15   \n",
       "182770332-False Alarm (Weather Related)    182770332 2018-10-04 03:44:38   \n",
       "182840307-False Alarm (Weather Related)    182840307 2018-10-11 03:02:23   \n",
       "183641927-False Alarm (Weather Related)    183641927 2018-12-30 18:27:18   \n",
       "190190621-False Alarm (Weather Related)    190190621 2019-01-19 08:55:14   \n",
       "\n",
       "                                                        Location  \\\n",
       "ID                                                                 \n",
       "182551924-False Alarm (Weather Related)     3522 W LISBON AV,MKE   \n",
       "182640245-False Alarm (Weather Related)  2620 W WISCONSIN AV,MKE   \n",
       "182770332-False Alarm (Weather Related)     5135 W HASSEL LA,MKE   \n",
       "182840307-False Alarm (Weather Related)       1301 N 12TH ST,MKE   \n",
       "183641927-False Alarm (Weather Related)       2333 N 49TH ST,MKE   \n",
       "190190621-False Alarm (Weather Related)  225 W GREENFIELD AV,MKE   \n",
       "\n",
       "                                        Police District    Nature of Call  \\\n",
       "ID                                                                          \n",
       "182551924-False Alarm (Weather Related)               3      HOLDUP ALARM   \n",
       "182640245-False Alarm (Weather Related)               3     MPD MON ALARM   \n",
       "182770332-False Alarm (Weather Related)               4             ENTRY   \n",
       "182840307-False Alarm (Weather Related)               3     BURG/AUD GOVT   \n",
       "183641927-False Alarm (Weather Related)               3    RETURN STATION   \n",
       "190190621-False Alarm (Weather Related)               2  BURG/AUD BUSINES   \n",
       "\n",
       "                                                                Status  \\\n",
       "ID                                                                       \n",
       "182551924-False Alarm (Weather Related)  False Alarm (Weather Related)   \n",
       "182640245-False Alarm (Weather Related)  False Alarm (Weather Related)   \n",
       "182770332-False Alarm (Weather Related)  False Alarm (Weather Related)   \n",
       "182840307-False Alarm (Weather Related)  False Alarm (Weather Related)   \n",
       "183641927-False Alarm (Weather Related)  False Alarm (Weather Related)   \n",
       "190190621-False Alarm (Weather Related)  False Alarm (Weather Related)   \n",
       "\n",
       "                                        Latitude Longitude  \n",
       "ID                                                          \n",
       "182551924-False Alarm (Weather Related)      NaN       NaN  \n",
       "182640245-False Alarm (Weather Related)  43.0391   -87.947  \n",
       "182770332-False Alarm (Weather Related)  43.1381  -87.9766  \n",
       "182840307-False Alarm (Weather Related)  43.0473  -87.9275  \n",
       "183641927-False Alarm (Weather Related)  43.0614  -87.9755  \n",
       "190190621-False Alarm (Weather Related)      NaN       NaN  "
      ]
     },
     "execution_count": 13,
     "metadata": {},
     "output_type": "execute_result"
    }
   ],
   "source": [
    "# Items originating from false alarms (example)\n",
    "df[df['Status'] == 'False Alarm (Weather Related)']"
   ]
  },
  {
   "cell_type": "code",
   "execution_count": 14,
   "metadata": {},
   "outputs": [],
   "source": [
    "pd.DataFrame(df['Nature of Call'].unique()).to_csv('natures.csv')"
   ]
  },
  {
   "cell_type": "code",
   "execution_count": 15,
   "metadata": {},
   "outputs": [],
   "source": [
    "addrDict = {'Location': df['Location'].unique(), 'Cleaned Location': '', 'Latitude': '', 'Longitude': ''}\n",
    "pd.DataFrame(addrDict).set_index(['Location']).to_csv('addresses.csv')"
   ]
  },
  {
   "cell_type": "code",
   "execution_count": null,
   "metadata": {},
   "outputs": [],
   "source": []
  }
 ],
 "metadata": {
  "kernelspec": {
   "display_name": "Python 3",
   "language": "python",
   "name": "python3"
  },
  "language_info": {
   "codemirror_mode": {
    "name": "ipython",
    "version": 3
   },
   "file_extension": ".py",
   "mimetype": "text/x-python",
   "name": "python",
   "nbconvert_exporter": "python",
   "pygments_lexer": "ipython3",
   "version": "3.7.2"
  }
 },
 "nbformat": 4,
 "nbformat_minor": 2
}
