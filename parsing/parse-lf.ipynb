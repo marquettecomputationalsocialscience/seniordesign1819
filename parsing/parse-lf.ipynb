{
 "cells": [
  {
   "cell_type": "code",
   "execution_count": 1,
   "metadata": {},
   "outputs": [],
   "source": [
    "# Liam's script for looking at basic info about the data\n",
    "import pandas as pd\n",
    "import numpy as np\n",
    "import os"
   ]
  },
  {
   "cell_type": "code",
   "execution_count": 2,
   "metadata": {},
   "outputs": [],
   "source": [
    "# Read raw data in\n",
    "root = os.path.expanduser('../data/')\n",
    "\n",
    "files = [root + f for f in os.listdir(root) if f.endswith('.csv')]\n",
    "dfs = [pd.read_csv(f, header=0, index_col=0, parse_dates=['Date/Time']) for f in files]\n",
    "df = pd.concat(dfs)"
   ]
  },
  {
   "cell_type": "code",
   "execution_count": 3,
   "metadata": {},
   "outputs": [
    {
     "data": {
      "text/plain": [
       "85944"
      ]
     },
     "execution_count": 3,
     "metadata": {},
     "output_type": "execute_result"
    }
   ],
   "source": [
    "# Number of rows\n",
    "len(df.index)"
   ]
  },
  {
   "cell_type": "code",
   "execution_count": 4,
   "metadata": {},
   "outputs": [
    {
     "data": {
      "text/plain": [
       "63304"
      ]
     },
     "execution_count": 4,
     "metadata": {},
     "output_type": "execute_result"
    }
   ],
   "source": [
    "# Number of unique call numbers\n",
    "len(df['Call Number'].unique())"
   ]
  },
  {
   "cell_type": "code",
   "execution_count": 5,
   "metadata": {},
   "outputs": [
    {
     "data": {
      "text/plain": [
       "0"
      ]
     },
     "execution_count": 5,
     "metadata": {},
     "output_type": "execute_result"
    }
   ],
   "source": [
    "# Number of rows containing missing data\n",
    "len(df[df.isnull().any(axis=1)].index)"
   ]
  },
  {
   "cell_type": "code",
   "execution_count": 6,
   "metadata": {},
   "outputs": [
    {
     "data": {
      "text/plain": [
       "2016"
      ]
     },
     "execution_count": 6,
     "metadata": {},
     "output_type": "execute_result"
    }
   ],
   "source": [
    "# Number of addresses not containing \"MKE\"\n",
    "len(df[df['Location'].str.contains('MKE') == False])"
   ]
  },
  {
   "cell_type": "code",
   "execution_count": 7,
   "metadata": {},
   "outputs": [
    {
     "data": {
      "text/plain": [
       "28954"
      ]
     },
     "execution_count": 7,
     "metadata": {},
     "output_type": "execute_result"
    }
   ],
   "source": [
    "# Number of unique locations\n",
    "len(df['Location'].value_counts())"
   ]
  },
  {
   "cell_type": "code",
   "execution_count": 8,
   "metadata": {},
   "outputs": [
    {
     "data": {
      "text/plain": [
       "2333 N 49TH ST,MKE              2060\n",
       "749 W STATE ST,MKE              1863\n",
       "245 W LINCOLN AV,MKE            1827\n",
       "3626 W FOND DU LAC AV,MKE       1821\n",
       "6929 W SILVER SPRING DR,MKE     1642\n",
       "3006 S 27TH ST,MKE              1415\n",
       "2920 N VEL R PHILLIPS AV,MKE    1134\n",
       "2920 N 4TH ST,MKE                598\n",
       "6680 N TEUTONIA AV,MKE           566\n",
       "4715 W VLIET ST,MKE              465\n",
       "Name: Location, dtype: int64"
      ]
     },
     "execution_count": 8,
     "metadata": {},
     "output_type": "execute_result"
    }
   ],
   "source": [
    "# Top 10 locations (police stations etc)\n",
    "df['Location'].value_counts().head(10)"
   ]
  },
  {
   "cell_type": "code",
   "execution_count": 9,
   "metadata": {},
   "outputs": [
    {
     "data": {
      "text/plain": [
       "TRAFFIC STOP       7312\n",
       "TRBL W/SUBJ        5591\n",
       "BUSINESS CHECK     5434\n",
       "RETURN STATION     4344\n",
       "FOLLOW UP          3245\n",
       "WELFARE CITIZEN    2637\n",
       "REPORTS            2529\n",
       "ACC PDO            2203\n",
       "PATROL             2139\n",
       "SPECIAL ASSIGN     2082\n",
       "Name: Nature of Call, dtype: int64"
      ]
     },
     "execution_count": 9,
     "metadata": {},
     "output_type": "execute_result"
    }
   ],
   "source": [
    "# Number of instances of each nature\n",
    "df['Nature of Call'].value_counts().head(10)"
   ]
  },
  {
   "cell_type": "code",
   "execution_count": 10,
   "metadata": {},
   "outputs": [
    {
     "data": {
      "text/plain": [
       "Service in Progress              31843\n",
       "Assignment Completed             24401\n",
       "Advised                          13286\n",
       "Unable to Locate Complainant      7433\n",
       "To be Filed                       3460\n",
       "City Citation(s) Issued           2286\n",
       "Advised/Referral                  1915\n",
       "Open Investigation                 907\n",
       "No Prosecution                     112\n",
       "Cleared by Arrest                  102\n",
       "False Alarm                         78\n",
       "Filed Driver Exchange Report        63\n",
       "Patrol Request                      28\n",
       "Referral                            23\n",
       "False Alarm (Weather Related)        4\n",
       "State Citation(s) Issued             3\n",
       "Name: Status, dtype: int64"
      ]
     },
     "execution_count": 10,
     "metadata": {},
     "output_type": "execute_result"
    }
   ],
   "source": [
    "# Number of instances of each status\n",
    "df['Status'].value_counts()"
   ]
  },
  {
   "cell_type": "code",
   "execution_count": 11,
   "metadata": {},
   "outputs": [
    {
     "data": {
      "text/plain": [
       "7       14742\n",
       "3       14462\n",
       "5       13099\n",
       "4       12353\n",
       "2       11812\n",
       "1        9692\n",
       "6        9278\n",
       "CITY      188\n",
       "OCOE      138\n",
       "SPD       113\n",
       "OUT        40\n",
       "DPR        14\n",
       "SCD         9\n",
       "NTF         2\n",
       "CIB         1\n",
       "NLA         1\n",
       "Name: Police District, dtype: int64"
      ]
     },
     "execution_count": 11,
     "metadata": {},
     "output_type": "execute_result"
    }
   ],
   "source": [
    "# Number of instances of each police district\n",
    "df['Police District'].value_counts()"
   ]
  },
  {
   "cell_type": "code",
   "execution_count": 12,
   "metadata": {},
   "outputs": [
    {
     "data": {
      "text/html": [
       "<div>\n",
       "<style scoped>\n",
       "    .dataframe tbody tr th:only-of-type {\n",
       "        vertical-align: middle;\n",
       "    }\n",
       "\n",
       "    .dataframe tbody tr th {\n",
       "        vertical-align: top;\n",
       "    }\n",
       "\n",
       "    .dataframe thead th {\n",
       "        text-align: right;\n",
       "    }\n",
       "</style>\n",
       "<table border=\"1\" class=\"dataframe\">\n",
       "  <thead>\n",
       "    <tr style=\"text-align: right;\">\n",
       "      <th></th>\n",
       "      <th>Call Number</th>\n",
       "      <th>Date/Time</th>\n",
       "      <th>Location</th>\n",
       "      <th>Police District</th>\n",
       "      <th>Nature of Call</th>\n",
       "      <th>Status</th>\n",
       "    </tr>\n",
       "    <tr>\n",
       "      <th>ID</th>\n",
       "      <th></th>\n",
       "      <th></th>\n",
       "      <th></th>\n",
       "      <th></th>\n",
       "      <th></th>\n",
       "      <th></th>\n",
       "    </tr>\n",
       "  </thead>\n",
       "  <tbody>\n",
       "    <tr>\n",
       "      <th>182682688-Service in Progress</th>\n",
       "      <td>182682688</td>\n",
       "      <td>2018-09-25 21:17:22</td>\n",
       "      <td>6500-BLK S 27TH, FRANKLIN</td>\n",
       "      <td>NLA</td>\n",
       "      <td>SPECIAL ASSIGN</td>\n",
       "      <td>Service in Progress</td>\n",
       "    </tr>\n",
       "  </tbody>\n",
       "</table>\n",
       "</div>"
      ],
      "text/plain": [
       "                               Call Number           Date/Time  \\\n",
       "ID                                                               \n",
       "182682688-Service in Progress    182682688 2018-09-25 21:17:22   \n",
       "\n",
       "                                                Location Police District  \\\n",
       "ID                                                                         \n",
       "182682688-Service in Progress  6500-BLK S 27TH, FRANKLIN             NLA   \n",
       "\n",
       "                               Nature of Call               Status  \n",
       "ID                                                                  \n",
       "182682688-Service in Progress  SPECIAL ASSIGN  Service in Progress  "
      ]
     },
     "execution_count": 12,
     "metadata": {},
     "output_type": "execute_result"
    }
   ],
   "source": [
    "# Items with NLA police district (example)\n",
    "df[df['Police District'] == 'NLA']"
   ]
  },
  {
   "cell_type": "code",
   "execution_count": 13,
   "metadata": {},
   "outputs": [
    {
     "data": {
      "text/html": [
       "<div>\n",
       "<style scoped>\n",
       "    .dataframe tbody tr th:only-of-type {\n",
       "        vertical-align: middle;\n",
       "    }\n",
       "\n",
       "    .dataframe tbody tr th {\n",
       "        vertical-align: top;\n",
       "    }\n",
       "\n",
       "    .dataframe thead th {\n",
       "        text-align: right;\n",
       "    }\n",
       "</style>\n",
       "<table border=\"1\" class=\"dataframe\">\n",
       "  <thead>\n",
       "    <tr style=\"text-align: right;\">\n",
       "      <th></th>\n",
       "      <th>Call Number</th>\n",
       "      <th>Date/Time</th>\n",
       "      <th>Location</th>\n",
       "      <th>Police District</th>\n",
       "      <th>Nature of Call</th>\n",
       "      <th>Status</th>\n",
       "    </tr>\n",
       "    <tr>\n",
       "      <th>ID</th>\n",
       "      <th></th>\n",
       "      <th></th>\n",
       "      <th></th>\n",
       "      <th></th>\n",
       "      <th></th>\n",
       "      <th></th>\n",
       "    </tr>\n",
       "  </thead>\n",
       "  <tbody>\n",
       "    <tr>\n",
       "      <th>182770332-False Alarm (Weather Related)</th>\n",
       "      <td>182770332</td>\n",
       "      <td>2018-10-04 03:44:38</td>\n",
       "      <td>5135 W HASSEL LA,MKE</td>\n",
       "      <td>4</td>\n",
       "      <td>ENTRY</td>\n",
       "      <td>False Alarm (Weather Related)</td>\n",
       "    </tr>\n",
       "    <tr>\n",
       "      <th>182640245-False Alarm (Weather Related)</th>\n",
       "      <td>182640245</td>\n",
       "      <td>2018-09-21 02:33:15</td>\n",
       "      <td>2620 W WISCONSIN AV,MKE</td>\n",
       "      <td>3</td>\n",
       "      <td>MPD MON ALARM</td>\n",
       "      <td>False Alarm (Weather Related)</td>\n",
       "    </tr>\n",
       "    <tr>\n",
       "      <th>182551924-False Alarm (Weather Related)</th>\n",
       "      <td>182551924</td>\n",
       "      <td>2018-09-12 16:35:18</td>\n",
       "      <td>3522 W LISBON AV,MKE</td>\n",
       "      <td>3</td>\n",
       "      <td>HOLDUP ALARM</td>\n",
       "      <td>False Alarm (Weather Related)</td>\n",
       "    </tr>\n",
       "    <tr>\n",
       "      <th>182840307-False Alarm (Weather Related)</th>\n",
       "      <td>182840307</td>\n",
       "      <td>2018-10-11 03:02:23</td>\n",
       "      <td>1301 N 12TH ST,MKE</td>\n",
       "      <td>3</td>\n",
       "      <td>BURG/AUD GOVT</td>\n",
       "      <td>False Alarm (Weather Related)</td>\n",
       "    </tr>\n",
       "  </tbody>\n",
       "</table>\n",
       "</div>"
      ],
      "text/plain": [
       "                                         Call Number           Date/Time  \\\n",
       "ID                                                                         \n",
       "182770332-False Alarm (Weather Related)    182770332 2018-10-04 03:44:38   \n",
       "182640245-False Alarm (Weather Related)    182640245 2018-09-21 02:33:15   \n",
       "182551924-False Alarm (Weather Related)    182551924 2018-09-12 16:35:18   \n",
       "182840307-False Alarm (Weather Related)    182840307 2018-10-11 03:02:23   \n",
       "\n",
       "                                                        Location  \\\n",
       "ID                                                                 \n",
       "182770332-False Alarm (Weather Related)     5135 W HASSEL LA,MKE   \n",
       "182640245-False Alarm (Weather Related)  2620 W WISCONSIN AV,MKE   \n",
       "182551924-False Alarm (Weather Related)     3522 W LISBON AV,MKE   \n",
       "182840307-False Alarm (Weather Related)       1301 N 12TH ST,MKE   \n",
       "\n",
       "                                        Police District Nature of Call  \\\n",
       "ID                                                                       \n",
       "182770332-False Alarm (Weather Related)               4          ENTRY   \n",
       "182640245-False Alarm (Weather Related)               3  MPD MON ALARM   \n",
       "182551924-False Alarm (Weather Related)               3   HOLDUP ALARM   \n",
       "182840307-False Alarm (Weather Related)               3  BURG/AUD GOVT   \n",
       "\n",
       "                                                                Status  \n",
       "ID                                                                      \n",
       "182770332-False Alarm (Weather Related)  False Alarm (Weather Related)  \n",
       "182640245-False Alarm (Weather Related)  False Alarm (Weather Related)  \n",
       "182551924-False Alarm (Weather Related)  False Alarm (Weather Related)  \n",
       "182840307-False Alarm (Weather Related)  False Alarm (Weather Related)  "
      ]
     },
     "execution_count": 13,
     "metadata": {},
     "output_type": "execute_result"
    }
   ],
   "source": [
    "# Items originating from false alarms (example)\n",
    "df[df['Status'] == 'False Alarm (Weather Related)']"
   ]
  },
  {
   "cell_type": "code",
   "execution_count": 17,
   "metadata": {},
   "outputs": [],
   "source": [
    "pd.DataFrame(df['Nature of Call'].unique()).to_csv('natures.csv')"
   ]
  },
  {
   "cell_type": "code",
   "execution_count": 26,
   "metadata": {},
   "outputs": [],
   "source": [
    "addrDict = {'Location': df['Location'].unique(), 'Cleaned Location': '', 'Latitude': '', 'Longitude': ''}\n",
    "pd.DataFrame(addrDict).set_index(['Location']).to_csv('addresses.csv')"
   ]
  },
  {
   "cell_type": "code",
   "execution_count": null,
   "metadata": {},
   "outputs": [],
   "source": []
  }
 ],
 "metadata": {
  "kernelspec": {
   "display_name": "Python 3",
   "language": "python",
   "name": "python3"
  },
  "language_info": {
   "codemirror_mode": {
    "name": "ipython",
    "version": 3
   },
   "file_extension": ".py",
   "mimetype": "text/x-python",
   "name": "python",
   "nbconvert_exporter": "python",
   "pygments_lexer": "ipython3",
   "version": "3.6.6"
  }
 },
 "nbformat": 4,
 "nbformat_minor": 2
}
