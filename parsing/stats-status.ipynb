{
 "cells": [
  {
   "cell_type": "code",
   "execution_count": 21,
   "metadata": {},
   "outputs": [],
   "source": [
    "import pandas as pd\n",
    "import numpy as np\n",
    "from scipy import stats\n",
    "import rpy2.robjects.numpy2ri\n",
    "rpy2.robjects.numpy2ri.activate()\n",
    "from rpy2.robjects.packages import importr\n",
    "Rstats = importr('stats')"
   ]
  },
  {
   "cell_type": "code",
   "execution_count": 22,
   "metadata": {},
   "outputs": [
    {
     "data": {
      "text/html": [
       "<div>\n",
       "<style scoped>\n",
       "    .dataframe tbody tr th:only-of-type {\n",
       "        vertical-align: middle;\n",
       "    }\n",
       "\n",
       "    .dataframe tbody tr th {\n",
       "        vertical-align: top;\n",
       "    }\n",
       "\n",
       "    .dataframe thead th {\n",
       "        text-align: right;\n",
       "    }\n",
       "</style>\n",
       "<table border=\"1\" class=\"dataframe\">\n",
       "  <thead>\n",
       "    <tr style=\"text-align: right;\">\n",
       "      <th>Status</th>\n",
       "      <th>Assignment Completed</th>\n",
       "      <th>Service in Progress</th>\n",
       "      <th>Advised</th>\n",
       "    </tr>\n",
       "  </thead>\n",
       "  <tbody>\n",
       "    <tr>\n",
       "      <th>0.0</th>\n",
       "      <td>2856</td>\n",
       "      <td>2298</td>\n",
       "      <td>839</td>\n",
       "    </tr>\n",
       "    <tr>\n",
       "      <th>1.0</th>\n",
       "      <td>5115</td>\n",
       "      <td>4479</td>\n",
       "      <td>1971</td>\n",
       "    </tr>\n",
       "    <tr>\n",
       "      <th>2.0</th>\n",
       "      <td>3943</td>\n",
       "      <td>1634</td>\n",
       "      <td>732</td>\n",
       "    </tr>\n",
       "    <tr>\n",
       "      <th>3.0</th>\n",
       "      <td>8422</td>\n",
       "      <td>5144</td>\n",
       "      <td>1248</td>\n",
       "    </tr>\n",
       "    <tr>\n",
       "      <th>4.0</th>\n",
       "      <td>6759</td>\n",
       "      <td>6158</td>\n",
       "      <td>2363</td>\n",
       "    </tr>\n",
       "  </tbody>\n",
       "</table>\n",
       "</div>"
      ],
      "text/plain": [
       "Status  Assignment Completed  Service in Progress  Advised\n",
       "0.0                     2856                 2298      839\n",
       "1.0                     5115                 4479     1971\n",
       "2.0                     3943                 1634      732\n",
       "3.0                     8422                 5144     1248\n",
       "4.0                     6759                 6158     2363"
      ]
     },
     "execution_count": 22,
     "metadata": {},
     "output_type": "execute_result"
    }
   ],
   "source": [
    "counts = pd.read_csv('status-alddist-counts.csv', index_col=0)\n",
    "counts = counts[['0.0', '1.0', '2.0', '3.0', '4.0', '5.0', '6.0', '7.0', '8.0', '9.0', '10.0', '11.0', '12.0', '13.0', '14.0']]\n",
    "counts = counts.transpose()\n",
    "counts = counts.iloc[:,1:4] # only use the 3 biggest bc significant\n",
    "counts.head()"
   ]
  },
  {
   "cell_type": "code",
   "execution_count": 23,
   "metadata": {},
   "outputs": [
    {
     "data": {
      "text/html": [
       "<div>\n",
       "<style scoped>\n",
       "    .dataframe tbody tr th:only-of-type {\n",
       "        vertical-align: middle;\n",
       "    }\n",
       "\n",
       "    .dataframe tbody tr th {\n",
       "        vertical-align: top;\n",
       "    }\n",
       "\n",
       "    .dataframe thead th {\n",
       "        text-align: right;\n",
       "    }\n",
       "</style>\n",
       "<table border=\"1\" class=\"dataframe\">\n",
       "  <thead>\n",
       "    <tr style=\"text-align: right;\">\n",
       "      <th>Status</th>\n",
       "      <th>Assignment Completed</th>\n",
       "      <th>Service in Progress</th>\n",
       "      <th>Advised</th>\n",
       "    </tr>\n",
       "  </thead>\n",
       "  <tbody>\n",
       "    <tr>\n",
       "      <th>0.0</th>\n",
       "      <td>47.655598</td>\n",
       "      <td>38.344736</td>\n",
       "      <td>13.999666</td>\n",
       "    </tr>\n",
       "    <tr>\n",
       "      <th>1.0</th>\n",
       "      <td>44.228275</td>\n",
       "      <td>38.728923</td>\n",
       "      <td>17.042802</td>\n",
       "    </tr>\n",
       "    <tr>\n",
       "      <th>2.0</th>\n",
       "      <td>62.498019</td>\n",
       "      <td>25.899509</td>\n",
       "      <td>11.602473</td>\n",
       "    </tr>\n",
       "    <tr>\n",
       "      <th>3.0</th>\n",
       "      <td>56.851627</td>\n",
       "      <td>34.723910</td>\n",
       "      <td>8.424463</td>\n",
       "    </tr>\n",
       "    <tr>\n",
       "      <th>4.0</th>\n",
       "      <td>44.234293</td>\n",
       "      <td>40.301047</td>\n",
       "      <td>15.464660</td>\n",
       "    </tr>\n",
       "    <tr>\n",
       "      <th>5.0</th>\n",
       "      <td>35.389726</td>\n",
       "      <td>39.423419</td>\n",
       "      <td>25.186855</td>\n",
       "    </tr>\n",
       "    <tr>\n",
       "      <th>6.0</th>\n",
       "      <td>52.739362</td>\n",
       "      <td>39.281915</td>\n",
       "      <td>7.978723</td>\n",
       "    </tr>\n",
       "    <tr>\n",
       "      <th>7.0</th>\n",
       "      <td>55.451128</td>\n",
       "      <td>27.130326</td>\n",
       "      <td>17.418546</td>\n",
       "    </tr>\n",
       "    <tr>\n",
       "      <th>8.0</th>\n",
       "      <td>47.136957</td>\n",
       "      <td>42.744726</td>\n",
       "      <td>10.118317</td>\n",
       "    </tr>\n",
       "    <tr>\n",
       "      <th>9.0</th>\n",
       "      <td>38.188254</td>\n",
       "      <td>50.891453</td>\n",
       "      <td>10.920294</td>\n",
       "    </tr>\n",
       "    <tr>\n",
       "      <th>10.0</th>\n",
       "      <td>48.846701</td>\n",
       "      <td>39.459806</td>\n",
       "      <td>11.693493</td>\n",
       "    </tr>\n",
       "    <tr>\n",
       "      <th>11.0</th>\n",
       "      <td>51.891483</td>\n",
       "      <td>30.209684</td>\n",
       "      <td>17.898833</td>\n",
       "    </tr>\n",
       "    <tr>\n",
       "      <th>12.0</th>\n",
       "      <td>59.606246</td>\n",
       "      <td>34.080109</td>\n",
       "      <td>6.313646</td>\n",
       "    </tr>\n",
       "    <tr>\n",
       "      <th>13.0</th>\n",
       "      <td>45.205479</td>\n",
       "      <td>34.480454</td>\n",
       "      <td>20.314066</td>\n",
       "    </tr>\n",
       "    <tr>\n",
       "      <th>14.0</th>\n",
       "      <td>58.456329</td>\n",
       "      <td>31.350929</td>\n",
       "      <td>10.192742</td>\n",
       "    </tr>\n",
       "  </tbody>\n",
       "</table>\n",
       "</div>"
      ],
      "text/plain": [
       "Status  Assignment Completed  Service in Progress    Advised\n",
       "0.0                47.655598            38.344736  13.999666\n",
       "1.0                44.228275            38.728923  17.042802\n",
       "2.0                62.498019            25.899509  11.602473\n",
       "3.0                56.851627            34.723910   8.424463\n",
       "4.0                44.234293            40.301047  15.464660\n",
       "5.0                35.389726            39.423419  25.186855\n",
       "6.0                52.739362            39.281915   7.978723\n",
       "7.0                55.451128            27.130326  17.418546\n",
       "8.0                47.136957            42.744726  10.118317\n",
       "9.0                38.188254            50.891453  10.920294\n",
       "10.0               48.846701            39.459806  11.693493\n",
       "11.0               51.891483            30.209684  17.898833\n",
       "12.0               59.606246            34.080109   6.313646\n",
       "13.0               45.205479            34.480454  20.314066\n",
       "14.0               58.456329            31.350929  10.192742"
      ]
     },
     "execution_count": 23,
     "metadata": {},
     "output_type": "execute_result"
    }
   ],
   "source": [
    "# convert the table to percents out of 100\n",
    "pcents = counts.copy()\n",
    "for idx, row in pcents.iterrows():\n",
    "    total = row.sum()\n",
    "    for col in pcents.columns:\n",
    "        pcents.loc[idx, col] = 100*pcents.loc[idx, col] / total\n",
    "pcents"
   ]
  },
  {
   "cell_type": "code",
   "execution_count": 24,
   "metadata": {},
   "outputs": [
    {
     "data": {
      "text/plain": [
       "0.0003247578985153647"
      ]
     },
     "execution_count": 24,
     "metadata": {},
     "output_type": "execute_result"
    }
   ],
   "source": [
    "# run a chi squared test on the entire table\n",
    "chi2 = stats.chi2_contingency(pcents)\n",
    "chi2[1]"
   ]
  },
  {
   "cell_type": "code",
   "execution_count": 25,
   "metadata": {},
   "outputs": [
    {
     "data": {
      "text/plain": [
       "(15, 3)"
      ]
     },
     "execution_count": 25,
     "metadata": {},
     "output_type": "execute_result"
    }
   ],
   "source": [
    "# confirming the correct amount of data\n",
    "chi2[3].shape"
   ]
  },
  {
   "cell_type": "code",
   "execution_count": 26,
   "metadata": {},
   "outputs": [
    {
     "data": {
      "text/plain": [
       "0"
      ]
     },
     "execution_count": 26,
     "metadata": {},
     "output_type": "execute_result"
    }
   ],
   "source": [
    "# confirm all cells are >= 5\n",
    "expected = chi2[3]\n",
    "len(expected[expected < 5])"
   ]
  },
  {
   "cell_type": "code",
   "execution_count": 29,
   "metadata": {},
   "outputs": [
    {
     "data": {
      "text/plain": [
       "{'0.0': 0.00011616702066361919,\n",
       " '1.0': 0.0020336896448768294,\n",
       " '2.0': 1.0535884581236781e-09,\n",
       " '3.0': 2.1995354896228095e-08,\n",
       " '4.0': 0.0006755104786539918,\n",
       " '5.0': 0.19884192856254684,\n",
       " '6.0': 1.343876820753753e-07,\n",
       " '7.0': 8.17590869942372e-06,\n",
       " '8.0': 4.686755171944214e-06,\n",
       " '9.0': 3.678401561091171e-06,\n",
       " '10.0': 1.3712346062492844e-05,\n",
       " '11.0': 0.0001383410372096823,\n",
       " '12.0': 5.543045399040552e-10,\n",
       " '13.0': 0.009311772016755421,\n",
       " '14.0': 2.3677812853322705e-08}"
      ]
     },
     "execution_count": 29,
     "metadata": {},
     "output_type": "execute_result"
    }
   ],
   "source": [
    "# run a one-way chi squared on each district\n",
    "pvals = {}\n",
    "for idx, row in pcents.iterrows():\n",
    "    pvals[idx] = stats.chisquare(row).pvalue\n",
    "pvals"
   ]
  },
  {
   "cell_type": "code",
   "execution_count": null,
   "metadata": {},
   "outputs": [],
   "source": []
  }
 ],
 "metadata": {
  "kernelspec": {
   "display_name": "Python 3",
   "language": "python",
   "name": "python3"
  },
  "language_info": {
   "codemirror_mode": {
    "name": "ipython",
    "version": 3
   },
   "file_extension": ".py",
   "mimetype": "text/x-python",
   "name": "python",
   "nbconvert_exporter": "python",
   "pygments_lexer": "ipython3",
   "version": "3.7.3"
  }
 },
 "nbformat": 4,
 "nbformat_minor": 2
}
